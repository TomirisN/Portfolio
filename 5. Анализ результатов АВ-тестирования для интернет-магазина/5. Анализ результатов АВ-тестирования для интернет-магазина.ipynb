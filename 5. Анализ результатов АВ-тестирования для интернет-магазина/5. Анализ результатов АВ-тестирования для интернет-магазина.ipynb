{
 "cells": [
  {
   "cell_type": "markdown",
   "metadata": {},
   "source": [
    "# Заголовок проекта\n",
    "\n",
    "Отдел маркетинга предоставил нам данные о 9 гипотезах для увеличения выручки. Необходимо приоритизировать гипотезы, запустить A/B-тест и проанализировать результаты. "
   ]
  },
  {
   "cell_type": "markdown",
   "metadata": {},
   "source": [
    "## Предобработка данных"
   ]
  },
  {
   "cell_type": "code",
   "execution_count": 1,
   "metadata": {},
   "outputs": [],
   "source": [
    "import pandas as pd\n",
    "import matplotlib.pyplot as plt\n",
    "\n",
    "import seaborn as sns\n",
    "\n",
    "import scipy.stats as stats\n",
    "from scipy import stats as st\n",
    "\n",
    "import datetime as dt\n",
    "\n",
    "import math\n",
    "\n",
    "import numpy as np"
   ]
  },
  {
   "cell_type": "code",
   "execution_count": 2,
   "metadata": {},
   "outputs": [],
   "source": [
    "try:\n",
    "    hyp = pd.read_csv('hypothesis.csv')\n",
    "except:\n",
    "    hyp = pd.read_csv('/datasets/hypothesis.csv')\n",
    "\n",
    "try:\n",
    "    orders = pd.read_csv('orders.csv')\n",
    "except:\n",
    "    orders = pd.read_csv('/datasets/orders.csv')\n",
    "    \n",
    "try:\n",
    "    visitors = pd.read_csv('visitors.csv')\n",
    "except:\n",
    "    visitors = pd.read_csv('/datasets/visitors.csv')"
   ]
  },
  {
   "cell_type": "markdown",
   "metadata": {},
   "source": [
    "Необходимо подготовить данные к анализу, поэтому проверим каждый датасет на наличие дубликатов и на соответсвие стандартам."
   ]
  },
  {
   "cell_type": "code",
   "execution_count": 3,
   "metadata": {},
   "outputs": [
    {
     "name": "stdout",
     "output_type": "stream",
     "text": [
      "<class 'pandas.core.frame.DataFrame'>\n",
      "RangeIndex: 9 entries, 0 to 8\n",
      "Data columns (total 5 columns):\n",
      " #   Column      Non-Null Count  Dtype \n",
      "---  ------      --------------  ----- \n",
      " 0   Hypothesis  9 non-null      object\n",
      " 1   Reach       9 non-null      int64 \n",
      " 2   Impact      9 non-null      int64 \n",
      " 3   Confidence  9 non-null      int64 \n",
      " 4   Efforts     9 non-null      int64 \n",
      "dtypes: int64(4), object(1)\n",
      "memory usage: 488.0+ bytes\n"
     ]
    }
   ],
   "source": [
    "hyp.info()"
   ]
  },
  {
   "cell_type": "code",
   "execution_count": 4,
   "metadata": {},
   "outputs": [
    {
     "data": {
      "text/html": [
       "<div>\n",
       "<style scoped>\n",
       "    .dataframe tbody tr th:only-of-type {\n",
       "        vertical-align: middle;\n",
       "    }\n",
       "\n",
       "    .dataframe tbody tr th {\n",
       "        vertical-align: top;\n",
       "    }\n",
       "\n",
       "    .dataframe thead th {\n",
       "        text-align: right;\n",
       "    }\n",
       "</style>\n",
       "<table border=\"1\" class=\"dataframe\">\n",
       "  <thead>\n",
       "    <tr style=\"text-align: right;\">\n",
       "      <th></th>\n",
       "      <th>Hypothesis</th>\n",
       "      <th>Reach</th>\n",
       "      <th>Impact</th>\n",
       "      <th>Confidence</th>\n",
       "      <th>Efforts</th>\n",
       "    </tr>\n",
       "  </thead>\n",
       "  <tbody>\n",
       "    <tr>\n",
       "      <th>0</th>\n",
       "      <td>Добавить два новых канала привлечения трафика,...</td>\n",
       "      <td>3</td>\n",
       "      <td>10</td>\n",
       "      <td>8</td>\n",
       "      <td>6</td>\n",
       "    </tr>\n",
       "    <tr>\n",
       "      <th>1</th>\n",
       "      <td>Запустить собственную службу доставки, что сок...</td>\n",
       "      <td>2</td>\n",
       "      <td>5</td>\n",
       "      <td>4</td>\n",
       "      <td>10</td>\n",
       "    </tr>\n",
       "    <tr>\n",
       "      <th>2</th>\n",
       "      <td>Добавить блоки рекомендаций товаров на сайт ин...</td>\n",
       "      <td>8</td>\n",
       "      <td>3</td>\n",
       "      <td>7</td>\n",
       "      <td>3</td>\n",
       "    </tr>\n",
       "    <tr>\n",
       "      <th>3</th>\n",
       "      <td>Изменить структура категорий, что увеличит кон...</td>\n",
       "      <td>8</td>\n",
       "      <td>3</td>\n",
       "      <td>3</td>\n",
       "      <td>8</td>\n",
       "    </tr>\n",
       "    <tr>\n",
       "      <th>4</th>\n",
       "      <td>Изменить цвет фона главной страницы, чтобы уве...</td>\n",
       "      <td>3</td>\n",
       "      <td>1</td>\n",
       "      <td>1</td>\n",
       "      <td>1</td>\n",
       "    </tr>\n",
       "  </tbody>\n",
       "</table>\n",
       "</div>"
      ],
      "text/plain": [
       "                                          Hypothesis  Reach  Impact  \\\n",
       "0  Добавить два новых канала привлечения трафика,...      3      10   \n",
       "1  Запустить собственную службу доставки, что сок...      2       5   \n",
       "2  Добавить блоки рекомендаций товаров на сайт ин...      8       3   \n",
       "3  Изменить структура категорий, что увеличит кон...      8       3   \n",
       "4  Изменить цвет фона главной страницы, чтобы уве...      3       1   \n",
       "\n",
       "   Confidence  Efforts  \n",
       "0           8        6  \n",
       "1           4       10  \n",
       "2           7        3  \n",
       "3           3        8  \n",
       "4           1        1  "
      ]
     },
     "execution_count": 4,
     "metadata": {},
     "output_type": "execute_result"
    }
   ],
   "source": [
    "hyp.head()"
   ]
  },
  {
   "cell_type": "code",
   "execution_count": 5,
   "metadata": {},
   "outputs": [
    {
     "data": {
      "text/plain": [
       "Hypothesis    0\n",
       "Reach         0\n",
       "Impact        0\n",
       "Confidence    0\n",
       "Efforts       0\n",
       "dtype: int64"
      ]
     },
     "execution_count": 5,
     "metadata": {},
     "output_type": "execute_result"
    }
   ],
   "source": [
    "hyp.isna().sum()"
   ]
  },
  {
   "cell_type": "code",
   "execution_count": 6,
   "metadata": {},
   "outputs": [
    {
     "data": {
      "text/plain": [
       "0"
      ]
     },
     "execution_count": 6,
     "metadata": {},
     "output_type": "execute_result"
    }
   ],
   "source": [
    "hyp.duplicated().sum()"
   ]
  },
  {
   "cell_type": "markdown",
   "metadata": {},
   "source": [
    "С hyp все в порядке. Нет дубликатов, и названия столбцов тоже в порядке."
   ]
  },
  {
   "cell_type": "code",
   "execution_count": 7,
   "metadata": {},
   "outputs": [
    {
     "data": {
      "text/html": [
       "<div>\n",
       "<style scoped>\n",
       "    .dataframe tbody tr th:only-of-type {\n",
       "        vertical-align: middle;\n",
       "    }\n",
       "\n",
       "    .dataframe tbody tr th {\n",
       "        vertical-align: top;\n",
       "    }\n",
       "\n",
       "    .dataframe thead th {\n",
       "        text-align: right;\n",
       "    }\n",
       "</style>\n",
       "<table border=\"1\" class=\"dataframe\">\n",
       "  <thead>\n",
       "    <tr style=\"text-align: right;\">\n",
       "      <th></th>\n",
       "      <th>transactionId</th>\n",
       "      <th>visitorId</th>\n",
       "      <th>date</th>\n",
       "      <th>revenue</th>\n",
       "      <th>group</th>\n",
       "    </tr>\n",
       "  </thead>\n",
       "  <tbody>\n",
       "    <tr>\n",
       "      <th>0</th>\n",
       "      <td>3667963787</td>\n",
       "      <td>3312258926</td>\n",
       "      <td>2019-08-15</td>\n",
       "      <td>1650</td>\n",
       "      <td>B</td>\n",
       "    </tr>\n",
       "    <tr>\n",
       "      <th>1</th>\n",
       "      <td>2804400009</td>\n",
       "      <td>3642806036</td>\n",
       "      <td>2019-08-15</td>\n",
       "      <td>730</td>\n",
       "      <td>B</td>\n",
       "    </tr>\n",
       "    <tr>\n",
       "      <th>2</th>\n",
       "      <td>2961555356</td>\n",
       "      <td>4069496402</td>\n",
       "      <td>2019-08-15</td>\n",
       "      <td>400</td>\n",
       "      <td>A</td>\n",
       "    </tr>\n",
       "    <tr>\n",
       "      <th>3</th>\n",
       "      <td>3797467345</td>\n",
       "      <td>1196621759</td>\n",
       "      <td>2019-08-15</td>\n",
       "      <td>9759</td>\n",
       "      <td>B</td>\n",
       "    </tr>\n",
       "    <tr>\n",
       "      <th>4</th>\n",
       "      <td>2282983706</td>\n",
       "      <td>2322279887</td>\n",
       "      <td>2019-08-15</td>\n",
       "      <td>2308</td>\n",
       "      <td>B</td>\n",
       "    </tr>\n",
       "  </tbody>\n",
       "</table>\n",
       "</div>"
      ],
      "text/plain": [
       "   transactionId   visitorId        date  revenue group\n",
       "0     3667963787  3312258926  2019-08-15     1650     B\n",
       "1     2804400009  3642806036  2019-08-15      730     B\n",
       "2     2961555356  4069496402  2019-08-15      400     A\n",
       "3     3797467345  1196621759  2019-08-15     9759     B\n",
       "4     2282983706  2322279887  2019-08-15     2308     B"
      ]
     },
     "execution_count": 7,
     "metadata": {},
     "output_type": "execute_result"
    }
   ],
   "source": [
    "orders.head()"
   ]
  },
  {
   "cell_type": "code",
   "execution_count": 8,
   "metadata": {},
   "outputs": [],
   "source": [
    "orders.rename(columns={'visitorId':'user_id', 'transactionId':'order_id'}, inplace=True)"
   ]
  },
  {
   "cell_type": "code",
   "execution_count": 9,
   "metadata": {},
   "outputs": [
    {
     "data": {
      "text/plain": [
       "order_id    0\n",
       "user_id     0\n",
       "date        0\n",
       "revenue     0\n",
       "group       0\n",
       "dtype: int64"
      ]
     },
     "execution_count": 9,
     "metadata": {},
     "output_type": "execute_result"
    }
   ],
   "source": [
    "orders.isna().sum()"
   ]
  },
  {
   "cell_type": "code",
   "execution_count": 10,
   "metadata": {},
   "outputs": [
    {
     "data": {
      "text/plain": [
       "0"
      ]
     },
     "execution_count": 10,
     "metadata": {},
     "output_type": "execute_result"
    }
   ],
   "source": [
    "orders.duplicated().sum()"
   ]
  },
  {
   "cell_type": "markdown",
   "metadata": {},
   "source": [
    "В orders пришлось лишь переименовать столбцы, для перехода на змеиный регистр и более понятное название. Дубликатов и пропусков не обнаружено."
   ]
  },
  {
   "cell_type": "code",
   "execution_count": 11,
   "metadata": {},
   "outputs": [
    {
     "name": "stdout",
     "output_type": "stream",
     "text": [
      "<class 'pandas.core.frame.DataFrame'>\n",
      "RangeIndex: 62 entries, 0 to 61\n",
      "Data columns (total 3 columns):\n",
      " #   Column    Non-Null Count  Dtype \n",
      "---  ------    --------------  ----- \n",
      " 0   date      62 non-null     object\n",
      " 1   group     62 non-null     object\n",
      " 2   visitors  62 non-null     int64 \n",
      "dtypes: int64(1), object(2)\n",
      "memory usage: 1.6+ KB\n"
     ]
    }
   ],
   "source": [
    "visitors.info()"
   ]
  },
  {
   "cell_type": "code",
   "execution_count": 12,
   "metadata": {},
   "outputs": [
    {
     "data": {
      "text/html": [
       "<div>\n",
       "<style scoped>\n",
       "    .dataframe tbody tr th:only-of-type {\n",
       "        vertical-align: middle;\n",
       "    }\n",
       "\n",
       "    .dataframe tbody tr th {\n",
       "        vertical-align: top;\n",
       "    }\n",
       "\n",
       "    .dataframe thead th {\n",
       "        text-align: right;\n",
       "    }\n",
       "</style>\n",
       "<table border=\"1\" class=\"dataframe\">\n",
       "  <thead>\n",
       "    <tr style=\"text-align: right;\">\n",
       "      <th></th>\n",
       "      <th>date</th>\n",
       "      <th>group</th>\n",
       "      <th>visitors</th>\n",
       "    </tr>\n",
       "  </thead>\n",
       "  <tbody>\n",
       "    <tr>\n",
       "      <th>0</th>\n",
       "      <td>2019-08-01</td>\n",
       "      <td>A</td>\n",
       "      <td>719</td>\n",
       "    </tr>\n",
       "    <tr>\n",
       "      <th>1</th>\n",
       "      <td>2019-08-02</td>\n",
       "      <td>A</td>\n",
       "      <td>619</td>\n",
       "    </tr>\n",
       "    <tr>\n",
       "      <th>2</th>\n",
       "      <td>2019-08-03</td>\n",
       "      <td>A</td>\n",
       "      <td>507</td>\n",
       "    </tr>\n",
       "    <tr>\n",
       "      <th>3</th>\n",
       "      <td>2019-08-04</td>\n",
       "      <td>A</td>\n",
       "      <td>717</td>\n",
       "    </tr>\n",
       "    <tr>\n",
       "      <th>4</th>\n",
       "      <td>2019-08-05</td>\n",
       "      <td>A</td>\n",
       "      <td>756</td>\n",
       "    </tr>\n",
       "  </tbody>\n",
       "</table>\n",
       "</div>"
      ],
      "text/plain": [
       "         date group  visitors\n",
       "0  2019-08-01     A       719\n",
       "1  2019-08-02     A       619\n",
       "2  2019-08-03     A       507\n",
       "3  2019-08-04     A       717\n",
       "4  2019-08-05     A       756"
      ]
     },
     "execution_count": 12,
     "metadata": {},
     "output_type": "execute_result"
    }
   ],
   "source": [
    "visitors.head()"
   ]
  },
  {
   "cell_type": "code",
   "execution_count": 13,
   "metadata": {},
   "outputs": [
    {
     "data": {
      "text/plain": [
       "date        0\n",
       "group       0\n",
       "visitors    0\n",
       "dtype: int64"
      ]
     },
     "execution_count": 13,
     "metadata": {},
     "output_type": "execute_result"
    }
   ],
   "source": [
    "visitors.isna().sum()"
   ]
  },
  {
   "cell_type": "code",
   "execution_count": 14,
   "metadata": {},
   "outputs": [
    {
     "data": {
      "text/plain": [
       "0"
      ]
     },
     "execution_count": 14,
     "metadata": {},
     "output_type": "execute_result"
    }
   ],
   "source": [
    "visitors.duplicated().sum()"
   ]
  },
  {
   "cell_type": "markdown",
   "metadata": {},
   "source": [
    "С visitors все хорошо, ни пропусков, ни дубликатов."
   ]
  },
  {
   "cell_type": "code",
   "execution_count": 15,
   "metadata": {},
   "outputs": [],
   "source": [
    "# преобразование данных о времени\n",
    "orders['date'] = pd.to_datetime(orders['date']).dt.date\n",
    "visitors['date'] = pd.to_datetime(visitors['date']).dt.date"
   ]
  },
  {
   "cell_type": "markdown",
   "metadata": {},
   "source": [
    "# Часть 1. Приоритизация гипотез"
   ]
  },
  {
   "cell_type": "markdown",
   "metadata": {},
   "source": [
    "**1.1 Применим фреймворк `ICE` для приоритизации гипотез и отсортируем их по убыванию приоритета.**"
   ]
  },
  {
   "cell_type": "code",
   "execution_count": 46,
   "metadata": {},
   "outputs": [],
   "source": [
    "hyp['ICE'] = (hyp['Impact'] * hyp['Confidence'] / hyp['Efforts']).round(2)"
   ]
  },
  {
   "cell_type": "code",
   "execution_count": 47,
   "metadata": {},
   "outputs": [
    {
     "data": {
      "text/html": [
       "<div>\n",
       "<style scoped>\n",
       "    .dataframe tbody tr th:only-of-type {\n",
       "        vertical-align: middle;\n",
       "    }\n",
       "\n",
       "    .dataframe tbody tr th {\n",
       "        vertical-align: top;\n",
       "    }\n",
       "\n",
       "    .dataframe thead th {\n",
       "        text-align: right;\n",
       "    }\n",
       "</style>\n",
       "<table border=\"1\" class=\"dataframe\">\n",
       "  <thead>\n",
       "    <tr style=\"text-align: right;\">\n",
       "      <th></th>\n",
       "      <th>Hypothesis</th>\n",
       "      <th>Reach</th>\n",
       "      <th>Impact</th>\n",
       "      <th>Confidence</th>\n",
       "      <th>Efforts</th>\n",
       "      <th>RICE</th>\n",
       "      <th>ICE</th>\n",
       "    </tr>\n",
       "  </thead>\n",
       "  <tbody>\n",
       "    <tr>\n",
       "      <th>8</th>\n",
       "      <td>Запустить акцию, дающую скидку на товар в день...</td>\n",
       "      <td>1</td>\n",
       "      <td>9</td>\n",
       "      <td>9</td>\n",
       "      <td>5</td>\n",
       "      <td>16.2</td>\n",
       "      <td>16.20</td>\n",
       "    </tr>\n",
       "    <tr>\n",
       "      <th>0</th>\n",
       "      <td>Добавить два новых канала привлечения трафика,...</td>\n",
       "      <td>3</td>\n",
       "      <td>10</td>\n",
       "      <td>8</td>\n",
       "      <td>6</td>\n",
       "      <td>40.0</td>\n",
       "      <td>13.33</td>\n",
       "    </tr>\n",
       "    <tr>\n",
       "      <th>7</th>\n",
       "      <td>Добавить форму подписки на все основные страни...</td>\n",
       "      <td>10</td>\n",
       "      <td>7</td>\n",
       "      <td>8</td>\n",
       "      <td>5</td>\n",
       "      <td>112.0</td>\n",
       "      <td>11.20</td>\n",
       "    </tr>\n",
       "    <tr>\n",
       "      <th>6</th>\n",
       "      <td>Показать на главной странице баннеры с актуаль...</td>\n",
       "      <td>5</td>\n",
       "      <td>3</td>\n",
       "      <td>8</td>\n",
       "      <td>3</td>\n",
       "      <td>40.0</td>\n",
       "      <td>8.00</td>\n",
       "    </tr>\n",
       "    <tr>\n",
       "      <th>2</th>\n",
       "      <td>Добавить блоки рекомендаций товаров на сайт ин...</td>\n",
       "      <td>8</td>\n",
       "      <td>3</td>\n",
       "      <td>7</td>\n",
       "      <td>3</td>\n",
       "      <td>56.0</td>\n",
       "      <td>7.00</td>\n",
       "    </tr>\n",
       "    <tr>\n",
       "      <th>1</th>\n",
       "      <td>Запустить собственную службу доставки, что сок...</td>\n",
       "      <td>2</td>\n",
       "      <td>5</td>\n",
       "      <td>4</td>\n",
       "      <td>10</td>\n",
       "      <td>4.0</td>\n",
       "      <td>2.00</td>\n",
       "    </tr>\n",
       "    <tr>\n",
       "      <th>5</th>\n",
       "      <td>Добавить страницу отзывов клиентов о магазине,...</td>\n",
       "      <td>3</td>\n",
       "      <td>2</td>\n",
       "      <td>2</td>\n",
       "      <td>3</td>\n",
       "      <td>4.0</td>\n",
       "      <td>1.33</td>\n",
       "    </tr>\n",
       "    <tr>\n",
       "      <th>3</th>\n",
       "      <td>Изменить структура категорий, что увеличит кон...</td>\n",
       "      <td>8</td>\n",
       "      <td>3</td>\n",
       "      <td>3</td>\n",
       "      <td>8</td>\n",
       "      <td>9.0</td>\n",
       "      <td>1.12</td>\n",
       "    </tr>\n",
       "    <tr>\n",
       "      <th>4</th>\n",
       "      <td>Изменить цвет фона главной страницы, чтобы уве...</td>\n",
       "      <td>3</td>\n",
       "      <td>1</td>\n",
       "      <td>1</td>\n",
       "      <td>1</td>\n",
       "      <td>3.0</td>\n",
       "      <td>1.00</td>\n",
       "    </tr>\n",
       "  </tbody>\n",
       "</table>\n",
       "</div>"
      ],
      "text/plain": [
       "                                          Hypothesis  Reach  Impact  \\\n",
       "8  Запустить акцию, дающую скидку на товар в день...      1       9   \n",
       "0  Добавить два новых канала привлечения трафика,...      3      10   \n",
       "7  Добавить форму подписки на все основные страни...     10       7   \n",
       "6  Показать на главной странице баннеры с актуаль...      5       3   \n",
       "2  Добавить блоки рекомендаций товаров на сайт ин...      8       3   \n",
       "1  Запустить собственную службу доставки, что сок...      2       5   \n",
       "5  Добавить страницу отзывов клиентов о магазине,...      3       2   \n",
       "3  Изменить структура категорий, что увеличит кон...      8       3   \n",
       "4  Изменить цвет фона главной страницы, чтобы уве...      3       1   \n",
       "\n",
       "   Confidence  Efforts   RICE    ICE  \n",
       "8           9        5   16.2  16.20  \n",
       "0           8        6   40.0  13.33  \n",
       "7           8        5  112.0  11.20  \n",
       "6           8        3   40.0   8.00  \n",
       "2           7        3   56.0   7.00  \n",
       "1           4       10    4.0   2.00  \n",
       "5           2        3    4.0   1.33  \n",
       "3           3        8    9.0   1.12  \n",
       "4           1        1    3.0   1.00  "
      ]
     },
     "execution_count": 47,
     "metadata": {},
     "output_type": "execute_result"
    }
   ],
   "source": [
    "hyp.sort_values('ICE', ascending=False)"
   ]
  },
  {
   "cell_type": "markdown",
   "metadata": {},
   "source": [
    "**1.2 Применим фреймворк `RICE` для приоритизации гипотез и отсортируем их по убыванию приоритета.**"
   ]
  },
  {
   "cell_type": "code",
   "execution_count": 17,
   "metadata": {},
   "outputs": [],
   "source": [
    "hyp['RICE'] = hyp['Reach'] * hyp['Impact'] * hyp['Confidence'] / hyp['Efforts']"
   ]
  },
  {
   "cell_type": "code",
   "execution_count": 18,
   "metadata": {},
   "outputs": [
    {
     "data": {
      "text/html": [
       "<div>\n",
       "<style scoped>\n",
       "    .dataframe tbody tr th:only-of-type {\n",
       "        vertical-align: middle;\n",
       "    }\n",
       "\n",
       "    .dataframe tbody tr th {\n",
       "        vertical-align: top;\n",
       "    }\n",
       "\n",
       "    .dataframe thead th {\n",
       "        text-align: right;\n",
       "    }\n",
       "</style>\n",
       "<table border=\"1\" class=\"dataframe\">\n",
       "  <thead>\n",
       "    <tr style=\"text-align: right;\">\n",
       "      <th></th>\n",
       "      <th>Hypothesis</th>\n",
       "      <th>Reach</th>\n",
       "      <th>Impact</th>\n",
       "      <th>Confidence</th>\n",
       "      <th>Efforts</th>\n",
       "      <th>RICE</th>\n",
       "    </tr>\n",
       "  </thead>\n",
       "  <tbody>\n",
       "    <tr>\n",
       "      <th>7</th>\n",
       "      <td>Добавить форму подписки на все основные страни...</td>\n",
       "      <td>10</td>\n",
       "      <td>7</td>\n",
       "      <td>8</td>\n",
       "      <td>5</td>\n",
       "      <td>112.0</td>\n",
       "    </tr>\n",
       "    <tr>\n",
       "      <th>2</th>\n",
       "      <td>Добавить блоки рекомендаций товаров на сайт ин...</td>\n",
       "      <td>8</td>\n",
       "      <td>3</td>\n",
       "      <td>7</td>\n",
       "      <td>3</td>\n",
       "      <td>56.0</td>\n",
       "    </tr>\n",
       "    <tr>\n",
       "      <th>0</th>\n",
       "      <td>Добавить два новых канала привлечения трафика,...</td>\n",
       "      <td>3</td>\n",
       "      <td>10</td>\n",
       "      <td>8</td>\n",
       "      <td>6</td>\n",
       "      <td>40.0</td>\n",
       "    </tr>\n",
       "    <tr>\n",
       "      <th>6</th>\n",
       "      <td>Показать на главной странице баннеры с актуаль...</td>\n",
       "      <td>5</td>\n",
       "      <td>3</td>\n",
       "      <td>8</td>\n",
       "      <td>3</td>\n",
       "      <td>40.0</td>\n",
       "    </tr>\n",
       "    <tr>\n",
       "      <th>8</th>\n",
       "      <td>Запустить акцию, дающую скидку на товар в день...</td>\n",
       "      <td>1</td>\n",
       "      <td>9</td>\n",
       "      <td>9</td>\n",
       "      <td>5</td>\n",
       "      <td>16.2</td>\n",
       "    </tr>\n",
       "    <tr>\n",
       "      <th>3</th>\n",
       "      <td>Изменить структура категорий, что увеличит кон...</td>\n",
       "      <td>8</td>\n",
       "      <td>3</td>\n",
       "      <td>3</td>\n",
       "      <td>8</td>\n",
       "      <td>9.0</td>\n",
       "    </tr>\n",
       "    <tr>\n",
       "      <th>1</th>\n",
       "      <td>Запустить собственную службу доставки, что сок...</td>\n",
       "      <td>2</td>\n",
       "      <td>5</td>\n",
       "      <td>4</td>\n",
       "      <td>10</td>\n",
       "      <td>4.0</td>\n",
       "    </tr>\n",
       "    <tr>\n",
       "      <th>5</th>\n",
       "      <td>Добавить страницу отзывов клиентов о магазине,...</td>\n",
       "      <td>3</td>\n",
       "      <td>2</td>\n",
       "      <td>2</td>\n",
       "      <td>3</td>\n",
       "      <td>4.0</td>\n",
       "    </tr>\n",
       "    <tr>\n",
       "      <th>4</th>\n",
       "      <td>Изменить цвет фона главной страницы, чтобы уве...</td>\n",
       "      <td>3</td>\n",
       "      <td>1</td>\n",
       "      <td>1</td>\n",
       "      <td>1</td>\n",
       "      <td>3.0</td>\n",
       "    </tr>\n",
       "  </tbody>\n",
       "</table>\n",
       "</div>"
      ],
      "text/plain": [
       "                                          Hypothesis  Reach  Impact  \\\n",
       "7  Добавить форму подписки на все основные страни...     10       7   \n",
       "2  Добавить блоки рекомендаций товаров на сайт ин...      8       3   \n",
       "0  Добавить два новых канала привлечения трафика,...      3      10   \n",
       "6  Показать на главной странице баннеры с актуаль...      5       3   \n",
       "8  Запустить акцию, дающую скидку на товар в день...      1       9   \n",
       "3  Изменить структура категорий, что увеличит кон...      8       3   \n",
       "1  Запустить собственную службу доставки, что сок...      2       5   \n",
       "5  Добавить страницу отзывов клиентов о магазине,...      3       2   \n",
       "4  Изменить цвет фона главной страницы, чтобы уве...      3       1   \n",
       "\n",
       "   Confidence  Efforts   RICE  \n",
       "7           8        5  112.0  \n",
       "2           7        3   56.0  \n",
       "0           8        6   40.0  \n",
       "6           8        3   40.0  \n",
       "8           9        5   16.2  \n",
       "3           3        8    9.0  \n",
       "1           4       10    4.0  \n",
       "5           2        3    4.0  \n",
       "4           1        1    3.0  "
      ]
     },
     "execution_count": 18,
     "metadata": {},
     "output_type": "execute_result"
    }
   ],
   "source": [
    "hyp.sort_values('RICE', ascending=False)"
   ]
  },
  {
   "cell_type": "markdown",
   "metadata": {},
   "source": [
    "**1.3 Попробуем ответить на вопрос: как изменилась приоритизация? А также объясним произошедшие изменения.**"
   ]
  },
  {
   "cell_type": "markdown",
   "metadata": {},
   "source": [
    "В методе ICE первое место по приоритизации заняла гипотеза 8: \"Запустить акцию, дающую скидку на товар в день рождения\", а в методе RICE гипотеза 7 \"Добавить форму подписки на все основные страницы, чтобы собрать базу клиентов для email-рассылок\". \n",
    "\n",
    "Гипотеза 7 затрагивает всех посетителей сайта, как и гипотеза 8, однако 8-я гипотеза затрагивает всех пользователей не одномоментно и информация об акции еще должна дойти до пользователя. Этим можно объяснить 5-ю позицию 8-й гипотезе при применении метода RICE. \n",
    "\n",
    "Но есть и в обоих методах кое-что общее: в первую тройку гипотез по важности и там, и там входят гипотезы 7 и 0."
   ]
  },
  {
   "cell_type": "markdown",
   "metadata": {},
   "source": [
    "## Часть 2. Анализ А/В-теста"
   ]
  },
  {
   "cell_type": "markdown",
   "metadata": {},
   "source": [
    "Для начала проверим сколько групп в А/В тесте, за какой период они доступны и есть ли пользователи попавшие в две группы одновременно."
   ]
  },
  {
   "cell_type": "code",
   "execution_count": 19,
   "metadata": {},
   "outputs": [
    {
     "data": {
      "text/plain": [
       "B    640\n",
       "A    557\n",
       "Name: group, dtype: int64"
      ]
     },
     "execution_count": 19,
     "metadata": {},
     "output_type": "execute_result"
    }
   ],
   "source": [
    "orders['group'].value_counts()"
   ]
  },
  {
   "cell_type": "code",
   "execution_count": 20,
   "metadata": {},
   "outputs": [
    {
     "name": "stdout",
     "output_type": "stream",
     "text": [
      "Дата начала исследования: 2019-08-01\n",
      "Дата конца исследования: 2019-08-31\n"
     ]
    }
   ],
   "source": [
    "print('Дата начала исследования:', orders['date'].min())\n",
    "      \n",
    "print('Дата конца исследования:', orders['date'].max())"
   ]
  },
  {
   "cell_type": "code",
   "execution_count": 21,
   "metadata": {},
   "outputs": [
    {
     "name": "stdout",
     "output_type": "stream",
     "text": [
      "58\n"
     ]
    }
   ],
   "source": [
    "snova_users = orders.groupby(['user_id']).agg({'group' : 'nunique', 'order_id' : 'count', 'revenue' : 'sum'}).reset_index()\n",
    "print(snova_users[snova_users.group != 1][\"user_id\"].count())"
   ]
  },
  {
   "cell_type": "markdown",
   "metadata": {},
   "source": [
    "Промежуточный итог: всего две группы в А/В тесте, данные предоставлены за август 2019 года и 58 пользователей попали в обе группы одновременно. Исключим их."
   ]
  },
  {
   "cell_type": "code",
   "execution_count": 22,
   "metadata": {},
   "outputs": [],
   "source": [
    "snova_users_1 = list(snova_users[snova_users.group != 1]['user_id'])\n",
    "orders = orders.query('user_id not in @snova_users_1') # новый датафрейм без 58 пользователей"
   ]
  },
  {
   "cell_type": "markdown",
   "metadata": {},
   "source": [
    "Теперь, исключив лишних пользователей, перейдем к самому анализу.\n",
    "Попробуем получить агрегированные накапливаемые по дням данные о заказах и данные о посетителях интернет-магазина, а потом объеденить все в одну таблицу."
   ]
  },
  {
   "cell_type": "code",
   "execution_count": 23,
   "metadata": {},
   "outputs": [],
   "source": [
    "# Создайте датафрейм datesGroups с уникальными парами значений 'date' и 'group', таблицы orders\n",
    "datesGroups = orders [['date', 'group']].drop_duplicates()"
   ]
  },
  {
   "cell_type": "code",
   "execution_count": 24,
   "metadata": {},
   "outputs": [],
   "source": [
    "# получаем ordersAggregated с датой, группами А/В теста, числом уникальных заказов в группе теста по указанную дату включительно, \n",
    "# число уникальных пользователей, совершивших хотя бы 1 заказ в группе теста по указанную дату включительно, \n",
    "#суммарной выручкой заказов в группе теста по указанную дату включительно\n",
    "ordersAggregated = datesGroups.apply(lambda x: orders[np.logical_and(orders['date'] <= x['date'], orders['group'] == x['group'])].agg({\n",
    "'date' : 'max',\n",
    "'group' : 'max',\n",
    "'order_id' : pd.Series.nunique,\n",
    "'user_id' : pd.Series.nunique,\n",
    "'revenue' : 'sum'}), axis=1).sort_values(by=['date','group']) "
   ]
  },
  {
   "cell_type": "code",
   "execution_count": 25,
   "metadata": {},
   "outputs": [],
   "source": [
    "# получаем переменную visitorsAggregated с датой, группами А/В теста\n",
    "# и количеством уникальных посетителей в группе теста по указанную дату включительно.\n",
    "visitorsAggregated = datesGroups.apply(lambda x: visitors[np.logical_and(visitors['date'] <= x['date'], visitors['group'] == x['group'])].agg({\n",
    "    'date' : 'max', \n",
    "    'group' : 'max', \n",
    "    'visitors' : 'sum'}), axis=1).sort_values(by=['date','group'])\n"
   ]
  },
  {
   "cell_type": "code",
   "execution_count": 26,
   "metadata": {},
   "outputs": [
    {
     "name": "stdout",
     "output_type": "stream",
     "text": [
      "         date group  orders  buyers  revenue  visitors\n",
      "0  2019-08-01     A      23      19   142779       719\n",
      "1  2019-08-01     B      17      17    59758       713\n",
      "2  2019-08-02     A      42      36   234381      1338\n",
      "3  2019-08-02     B      40      39   221801      1294\n",
      "4  2019-08-03     A      66      60   346854      1845\n",
      "5  2019-08-03     B      54      53   288850      1803\n",
      "6  2019-08-04     A      77      71   388030      2562\n",
      "7  2019-08-04     B      68      66   385740      2573\n",
      "8  2019-08-05     A      99      92   474413      3318\n",
      "9  2019-08-05     B      89      87   475648      3280\n"
     ]
    }
   ],
   "source": [
    "# объеденим все в одну таблицу и переименуем столбцы\n",
    "cumulativeData = ordersAggregated.merge(visitorsAggregated, left_on=['date', 'group'], right_on=['date', 'group'])\n",
    "\n",
    "cumulativeData.columns = ['date', 'group', 'orders', 'buyers', 'revenue', 'visitors']\n",
    "\n",
    "print(cumulativeData.head(10)) "
   ]
  },
  {
   "cell_type": "markdown",
   "metadata": {},
   "source": [
    "**2.1 Построим график кумулятивной выручки по группам.**"
   ]
  },
  {
   "cell_type": "code",
   "execution_count": 27,
   "metadata": {},
   "outputs": [
    {
     "data": {
      "text/plain": [
       "<matplotlib.legend.Legend at 0x7ff5db5810d0>"
      ]
     },
     "execution_count": 27,
     "metadata": {},
     "output_type": "execute_result"
    },
    {
     "data": {
      "image/png": "[encoded data removed]",
      "text/plain": [
       "<Figure size 432x288 with 1 Axes>"
      ]
     },
     "metadata": {
      "needs_background": "light"
     },
     "output_type": "display_data"
    }
   ],
   "source": [
    "# датафрейм с кумулятивным количеством заказов и кумулятивной выручкой по дням в группе А\n",
    "cumulativeRevenueA = cumulativeData[cumulativeData['group']=='A'][['date','revenue', 'orders']]\n",
    "\n",
    "# датафрейм с кумулятивным количеством заказов и кумулятивной выручкой по дням в группе B\n",
    "cumulativeRevenueB = cumulativeData[cumulativeData['group']=='B'][['date','revenue', 'orders']]\n",
    "\n",
    "# Строим график выручки группы А\n",
    "plt.plot(cumulativeRevenueA['date'], cumulativeRevenueA['revenue'], label='A')\n",
    "\n",
    "# Строим график выручки группы B\n",
    "plt.plot(cumulativeRevenueB['date'], cumulativeRevenueB['revenue'], label='B')\n",
    "plt.title('График кумулятивной выручки по группам')\n",
    "plt.ylabel('Выручка')\n",
    "plt.xlabel('Дата')\n",
    "plt.xticks(rotation=45)\n",
    "\n",
    "plt.legend() "
   ]
  },
  {
   "cell_type": "markdown",
   "metadata": {},
   "source": [
    "На протяжении всего теста выручка увеличивается и в группе А, и в группе В, но можно также заметить скачек в группе В, который, возможно, можно объяснить о увеличении количества заказов или об увеличении их стоимости."
   ]
  },
  {
   "cell_type": "markdown",
   "metadata": {},
   "source": [
    "**2.1 Построим график кумулятивного среднего чека по группам.**"
   ]
  },
  {
   "cell_type": "code",
   "execution_count": 28,
   "metadata": {},
   "outputs": [
    {
     "data": {
      "text/plain": [
       "<matplotlib.legend.Legend at 0x7ff5db2332b0>"
      ]
     },
     "execution_count": 28,
     "metadata": {},
     "output_type": "execute_result"
    },
    {
     "data": {
      "image/png": "[encoded data removed]",
      "text/plain": [
       "<Figure size 432x288 with 1 Axes>"
      ]
     },
     "metadata": {
      "needs_background": "light"
     },
     "output_type": "display_data"
    }
   ],
   "source": [
    "plt.plot(cumulativeRevenueA['date'], cumulativeRevenueA['revenue']/cumulativeRevenueA['orders'], label='A')\n",
    "plt.plot(cumulativeRevenueB['date'], cumulativeRevenueB['revenue']/cumulativeRevenueB['orders'], label='B')\n",
    "plt.title('График кумулятивного среднего чека по группам')\n",
    "plt.ylabel('Средний чек')\n",
    "plt.xlabel('Дата')\n",
    "plt.xticks(rotation=45)\n",
    "plt.legend() "
   ]
  },
  {
   "cell_type": "markdown",
   "metadata": {},
   "source": [
    "Средний чек в группе A за первые две недели подрос и стабилизировался, а в группе B резко подскочил и стал плавно снижаться к концу теста (снова всплеск в группе В). Возможно, в группу B попали какие-то крупные заказы, судя по резкому всплеску на графике."
   ]
  },
  {
   "cell_type": "markdown",
   "metadata": {},
   "source": [
    "**2.3 Построим график относительного изменения кумулятивного среднего чека группы B к группе A.**"
   ]
  },
  {
   "cell_type": "code",
   "execution_count": 29,
   "metadata": {},
   "outputs": [
    {
     "data": {
      "text/plain": [
       "<matplotlib.lines.Line2D at 0x7ff5db233400>"
      ]
     },
     "execution_count": 29,
     "metadata": {},
     "output_type": "execute_result"
    },
    {
     "data": {
      "image/png": "[encoded data removed]",
      "text/plain": [
       "<Figure size 432x288 with 1 Axes>"
      ]
     },
     "metadata": {
      "needs_background": "light"
     },
     "output_type": "display_data"
    }
   ],
   "source": [
    "# собираем данные в одном датафрейме\n",
    "mergedCumulativeRevenue = cumulativeRevenueA.merge(cumulativeRevenueB, left_on='date', right_on='date', how='left', suffixes=['A', 'B'])\n",
    "\n",
    "# cтроим отношение средних чеков\n",
    "plt.plot(mergedCumulativeRevenue['date'], (mergedCumulativeRevenue['revenueB']/mergedCumulativeRevenue['ordersB'])/(mergedCumulativeRevenue['revenueA']/mergedCumulativeRevenue['ordersA'])-1)\n",
    "plt.title('График относительного изменения кумулятивного среднего чека группы B к группе A')\n",
    "plt.ylabel('Средний чек')\n",
    "plt.xlabel('Дата')\n",
    "plt.xticks(rotation=45)\n",
    "\n",
    "# добавляем ось X\n",
    "plt.axhline(y=0, color='black', linestyle='--') \n"
   ]
  },
  {
   "cell_type": "markdown",
   "metadata": {},
   "source": [
    "Скачок все также есть - если быть точнее, он был 20-го августа. Наверное случился какой-то очень крупный заказ."
   ]
  },
  {
   "cell_type": "markdown",
   "metadata": {},
   "source": [
    "**2.4 Построим график кумулятивного среднего количества заказов на посетителя по группам.**"
   ]
  },
  {
   "cell_type": "code",
   "execution_count": 30,
   "metadata": {},
   "outputs": [
    {
     "data": {
      "text/plain": [
       "<matplotlib.legend.Legend at 0x7ff5db567580>"
      ]
     },
     "execution_count": 30,
     "metadata": {},
     "output_type": "execute_result"
    },
    {
     "data": {
      "image/png": "[encoded data removed]",
      "text/plain": [
       "<Figure size 432x288 with 1 Axes>"
      ]
     },
     "metadata": {
      "needs_background": "light"
     },
     "output_type": "display_data"
    }
   ],
   "source": [
    "# считаем кумулятивную конверсию\n",
    "cumulativeData['conversion'] = cumulativeData['orders']/cumulativeData['visitors']\n",
    "\n",
    "# отделяем данные по группе A\n",
    "cumulativeDataA = cumulativeData[cumulativeData['group']=='A']\n",
    "\n",
    "# отделяем данные по группе B\n",
    "cumulativeDataB = cumulativeData[cumulativeData['group']=='B']\n",
    "\n",
    "# строим графики\n",
    "plt.plot(cumulativeDataA['date'], cumulativeDataA['conversion'], label='A')\n",
    "plt.plot(cumulativeDataB['date'], cumulativeDataB['conversion'], label='B')\n",
    "plt.title('График кумулятивного среднего количества заказов на посетителя по группам')\n",
    "plt.ylabel('Среднее количество заказов на посетителя')\n",
    "plt.xlabel('Дата')\n",
    "plt.xticks(rotation=45)\n",
    "plt.legend()\n"
   ]
  },
  {
   "cell_type": "markdown",
   "metadata": {},
   "source": [
    "В начале у группы А показатели были намного лучше, чем у группы В, однако уже начиная с конца первой недели ситуация стабилизировалась в лучшую для группы В сторону."
   ]
  },
  {
   "cell_type": "markdown",
   "metadata": {},
   "source": [
    "**2.5 Построим график относительного изменения кумулятивного среднего количества заказов на посетителя группы B к группе A.**"
   ]
  },
  {
   "cell_type": "code",
   "execution_count": 31,
   "metadata": {},
   "outputs": [
    {
     "data": {
      "text/plain": [
       "<matplotlib.lines.Line2D at 0x7ff5cf831670>"
      ]
     },
     "execution_count": 31,
     "metadata": {},
     "output_type": "execute_result"
    },
    {
     "data": {
      "image/png": "[encoded data removed]",
      "text/plain": [
       "<Figure size 432x288 with 1 Axes>"
      ]
     },
     "metadata": {
      "needs_background": "light"
     },
     "output_type": "display_data"
    }
   ],
   "source": [
    "# объеденим все в одну таблицу\n",
    "mergedCumulativeConversions = cumulativeDataA[['date','conversion']].merge(\n",
    "    cumulativeDataB[['date','conversion']], left_on='date', right_on='date', how='left', suffixes=['A', 'B'])\n",
    "\n",
    "plt.plot(mergedCumulativeConversions['date'], \n",
    "         mergedCumulativeConversions['conversionB']/mergedCumulativeConversions['conversionA']-1, \n",
    "         label=\"Относительное изменения кумулятивного среднего количества заказов на посетителя группы B к группе A\")\n",
    "plt.ylabel('Среднее количество заказов на посетителя')\n",
    "plt.xlabel('Дата')\n",
    "plt.legend()\n",
    "plt.xticks(rotation=45)\n",
    "\n",
    "plt.axhline(y=0, color='red', linestyle='--')"
   ]
  },
  {
   "cell_type": "markdown",
   "metadata": {},
   "source": [
    "При запуске исследования в первые дни В-тест колебался и проигрывал А-тесту, но затем начался рост до 20% относительно А-теста, где-то 15 августа начался небольшой спад, но все равно В-тест лучше, чем группа А. Однако серьезные выводы делать рано."
   ]
  },
  {
   "cell_type": "markdown",
   "metadata": {},
   "source": [
    "**2.6 Построим точечный график количества заказов по пользователям.**"
   ]
  },
  {
   "cell_type": "code",
   "execution_count": 32,
   "metadata": {},
   "outputs": [
    {
     "data": {
      "text/html": [
       "<div>\n",
       "<style scoped>\n",
       "    .dataframe tbody tr th:only-of-type {\n",
       "        vertical-align: middle;\n",
       "    }\n",
       "\n",
       "    .dataframe tbody tr th {\n",
       "        vertical-align: top;\n",
       "    }\n",
       "\n",
       "    .dataframe thead th {\n",
       "        text-align: right;\n",
       "    }\n",
       "</style>\n",
       "<table border=\"1\" class=\"dataframe\">\n",
       "  <thead>\n",
       "    <tr style=\"text-align: right;\">\n",
       "      <th></th>\n",
       "      <th>user_id</th>\n",
       "      <th>orders</th>\n",
       "    </tr>\n",
       "  </thead>\n",
       "  <tbody>\n",
       "    <tr>\n",
       "      <th>908</th>\n",
       "      <td>3967698036</td>\n",
       "      <td>3</td>\n",
       "    </tr>\n",
       "    <tr>\n",
       "      <th>55</th>\n",
       "      <td>249864742</td>\n",
       "      <td>3</td>\n",
       "    </tr>\n",
       "    <tr>\n",
       "      <th>478</th>\n",
       "      <td>2108163459</td>\n",
       "      <td>3</td>\n",
       "    </tr>\n",
       "    <tr>\n",
       "      <th>687</th>\n",
       "      <td>2988190573</td>\n",
       "      <td>3</td>\n",
       "    </tr>\n",
       "    <tr>\n",
       "      <th>890</th>\n",
       "      <td>3908431265</td>\n",
       "      <td>3</td>\n",
       "    </tr>\n",
       "    <tr>\n",
       "      <th>138</th>\n",
       "      <td>611059232</td>\n",
       "      <td>3</td>\n",
       "    </tr>\n",
       "    <tr>\n",
       "      <th>632</th>\n",
       "      <td>2742574263</td>\n",
       "      <td>3</td>\n",
       "    </tr>\n",
       "    <tr>\n",
       "      <th>157</th>\n",
       "      <td>678354126</td>\n",
       "      <td>2</td>\n",
       "    </tr>\n",
       "    <tr>\n",
       "      <th>323</th>\n",
       "      <td>1404560065</td>\n",
       "      <td>2</td>\n",
       "    </tr>\n",
       "    <tr>\n",
       "      <th>452</th>\n",
       "      <td>1985475298</td>\n",
       "      <td>2</td>\n",
       "    </tr>\n",
       "  </tbody>\n",
       "</table>\n",
       "</div>"
      ],
      "text/plain": [
       "        user_id  orders\n",
       "908  3967698036       3\n",
       "55    249864742       3\n",
       "478  2108163459       3\n",
       "687  2988190573       3\n",
       "890  3908431265       3\n",
       "138   611059232       3\n",
       "632  2742574263       3\n",
       "157   678354126       2\n",
       "323  1404560065       2\n",
       "452  1985475298       2"
      ]
     },
     "execution_count": 32,
     "metadata": {},
     "output_type": "execute_result"
    }
   ],
   "source": [
    "# найдем число заказов по пользователям, создав новую таблицу\n",
    "ordersByUsers = (\n",
    "    orders.groupby('user_id', as_index=False)\n",
    "    .agg({'order_id': 'nunique'})\n",
    ")\n",
    "\n",
    "ordersByUsers.columns = ['user_id', 'orders']\n",
    "\n",
    "ordersByUsers.sort_values(by='orders', ascending=False).head(10)"
   ]
  },
  {
   "cell_type": "code",
   "execution_count": 33,
   "metadata": {},
   "outputs": [
    {
     "data": {
      "text/plain": [
       "Text(0.5, 1.0, 'Гистограмма количества заказов по пользователям')"
      ]
     },
     "execution_count": 33,
     "metadata": {},
     "output_type": "execute_result"
    },
    {
     "data": {
      "image/png": "[encoded data removed]",
      "text/plain": [
       "<Figure size 432x288 with 1 Axes>"
      ]
     },
     "metadata": {
      "needs_background": "light"
     },
     "output_type": "display_data"
    }
   ],
   "source": [
    "plt.hist(ordersByUsers['orders']);\n",
    "plt.xlabel('Количество заказов')\n",
    "plt.ylabel('Пользователи')\n",
    "plt.title('Гистограмма количества заказов по пользователям')"
   ]
  },
  {
   "cell_type": "code",
   "execution_count": 34,
   "metadata": {},
   "outputs": [
    {
     "data": {
      "text/plain": [
       "Text(0.5, 1.0, 'Точечный график количества заказов по пользователям')"
      ]
     },
     "execution_count": 34,
     "metadata": {},
     "output_type": "execute_result"
    },
    {
     "data": {
      "image/png": "[encoded data removed]",
      "text/plain": [
       "<Figure size 432x288 with 1 Axes>"
      ]
     },
     "metadata": {
      "needs_background": "light"
     },
     "output_type": "display_data"
    }
   ],
   "source": [
    "# серия из чисел от 0 до количества наблюдений в ordersByUsers\n",
    "x_values = pd.Series(range(0, len(ordersByUsers)))\n",
    "plt.scatter(x_values, ordersByUsers['orders']) \n",
    "plt.ylabel('Количество заказов')\n",
    "plt.xlabel('Пользователи')\n",
    "plt.title('Точечный график количества заказов по пользователям')"
   ]
  },
  {
   "cell_type": "code",
   "execution_count": 39,
   "metadata": {},
   "outputs": [
    {
     "data": {
      "image/png": "[encoded data removed]",
      "text/plain": [
       "<Figure size 432x288 with 1 Axes>"
      ]
     },
     "metadata": {
      "needs_background": "light"
     },
     "output_type": "display_data"
    }
   ],
   "source": [
    "# теперь с разбивкой по группам\n",
    "x_values = pd.Series(range(0,len(ordersByUsers)))\n",
    "\n",
    "plt.title('Точечный график количества заказов по пользователям с разбивкой на группы')\n",
    "plt.ylabel('Количество заказов')\n",
    "plt.xlabel('Пользователи')\n",
    "sns.scatterplot(data=orders, x=x_values, y=ordersByUsers['orders'], hue=\"group\");"
   ]
  },
  {
   "cell_type": "markdown",
   "metadata": {},
   "source": [
    "По графикам видно, что заказывают почти всегда 1 раз. Очень редко бывает 2 или 3 заказа."
   ]
  },
  {
   "cell_type": "markdown",
   "metadata": {},
   "source": [
    "**2.7 Посчитаем 95-й и 99-й перцентили количества заказов на пользователя. Выберем границу для определения аномальных пользователей.**"
   ]
  },
  {
   "cell_type": "code",
   "execution_count": 36,
   "metadata": {},
   "outputs": [
    {
     "name": "stdout",
     "output_type": "stream",
     "text": [
      "[1. 2.]\n"
     ]
    }
   ],
   "source": [
    "print(np.percentile(ordersByUsers['orders'], [95, 99]))"
   ]
  },
  {
   "cell_type": "markdown",
   "metadata": {},
   "source": [
    "Не более 5% пользователей совершали более одного заказов, и не более 1% от всех пользователей совершали более двух заказов. Пользователей с двумя и тремя заказами точно можно считать аномальными."
   ]
  },
  {
   "cell_type": "markdown",
   "metadata": {},
   "source": [
    "**2.8 Построем точечный график стоимостей заказов**"
   ]
  },
  {
   "cell_type": "code",
   "execution_count": 44,
   "metadata": {},
   "outputs": [
    {
     "data": {
      "text/plain": [
       "<matplotlib.collections.PathCollection at 0x7ff5cf49b6a0>"
      ]
     },
     "execution_count": 44,
     "metadata": {},
     "output_type": "execute_result"
    },
    {
     "data": {
      "image/png": "[encoded data removed]",
      "text/plain": [
       "<Figure size 432x288 with 1 Axes>"
      ]
     },
     "metadata": {
      "needs_background": "light"
     },
     "output_type": "display_data"
    }
   ],
   "source": [
    "x_values = pd.Series(range(0, len(orders['revenue'])))\n",
    "plt.title('Точечный график стоимостей заказов')\n",
    "plt.ylabel('Стоимость заказов')\n",
    "plt.xlabel('Заказы')\n",
    "plt.scatter(x_values, orders['revenue']) "
   ]
  },
  {
   "cell_type": "code",
   "execution_count": 45,
   "metadata": {},
   "outputs": [
    {
     "data": {
      "image/png": "[encoded data removed]",
      "text/plain": [
       "<Figure size 432x288 with 1 Axes>"
      ]
     },
     "metadata": {
      "needs_background": "light"
     },
     "output_type": "display_data"
    }
   ],
   "source": [
    "x_values = pd.Series(range(0,len(orders['revenue'])))\n",
    "plt.title('Точечный график стоимостей заказов с разбивкой на группы')\n",
    "plt.ylabel('Стоимость заказов')\n",
    "plt.xlabel('Заказы')\n",
    "sns.scatterplot(data=orders, x=x_values, y=orders['revenue'], hue=\"group\");"
   ]
  },
  {
   "cell_type": "markdown",
   "metadata": {},
   "source": [
    "Есть как минимум один аномальный заказ, который выбивается из колеи и скорее всего является причиной резких колебаний на предыдущих графиках."
   ]
  },
  {
   "cell_type": "markdown",
   "metadata": {},
   "source": [
    "**2.9 Посчитаем 95-й и 99-й перцентили стоимости заказов. Выберем границу для определения аномальных заказов**"
   ]
  },
  {
   "cell_type": "code",
   "execution_count": 39,
   "metadata": {},
   "outputs": [
    {
     "name": "stdout",
     "output_type": "stream",
     "text": [
      "[26785. 53904.]\n"
     ]
    }
   ],
   "source": [
    "print(np.percentile(orders['revenue'], [95, 99])) "
   ]
  },
  {
   "cell_type": "markdown",
   "metadata": {},
   "source": [
    "Не более 5% пользователей совершали покупку на сумму более 26785 д.е., и не более 1% от всех пользователей совершали покупку на сумму более 53904 д.е.. Граница для определения аномальных заказов - 26785 д.е. и более"
   ]
  },
  {
   "cell_type": "markdown",
   "metadata": {},
   "source": [
    "**2.10 Посчитаем статистическую значимость различий в среднем количестве заказов на посетителя между группами по «сырым» данным.**"
   ]
  },
  {
   "cell_type": "code",
   "execution_count": 40,
   "metadata": {},
   "outputs": [],
   "source": [
    "# Посчитаем агрегированные накапливаемые данные \n",
    "# по дням о посетителях групп А и В\n",
    "\n",
    "visitorsADaily = visitors[visitors['group'] == 'A'][['date', 'visitors']]\n",
    "visitorsADaily.columns = ['date', 'visitorsPerDateA']\n",
    "\n",
    "visitorsACummulative = visitorsADaily.apply(\n",
    "    lambda x: visitorsADaily[visitorsADaily['date'] <= x['date']].agg(\n",
    "        {'date': 'max', 'visitorsPerDateA': 'sum'}\n",
    "    ),\n",
    "    axis=1,\n",
    ")\n",
    "visitorsACummulative.columns = ['date', 'visitorsCummulativeA']\n",
    "\n",
    "visitorsBDaily = visitors[visitors['group'] == 'B'][['date', 'visitors']]\n",
    "visitorsBDaily.columns = ['date', 'visitorsPerDateB']\n",
    "\n",
    "visitorsBCummulative = visitorsBDaily.apply(\n",
    "    lambda x: visitorsBDaily[visitorsBDaily['date'] <= x['date']].agg(\n",
    "        {'date': 'max', 'visitorsPerDateB': 'sum'}\n",
    "    ),\n",
    "    axis=1,\n",
    ")\n",
    "visitorsBCummulative.columns = ['date', 'visitorsCummulativeB']\n"
   ]
  },
  {
   "cell_type": "code",
   "execution_count": 41,
   "metadata": {},
   "outputs": [
    {
     "data": {
      "text/html": [
       "<div>\n",
       "<style scoped>\n",
       "    .dataframe tbody tr th:only-of-type {\n",
       "        vertical-align: middle;\n",
       "    }\n",
       "\n",
       "    .dataframe tbody tr th {\n",
       "        vertical-align: top;\n",
       "    }\n",
       "\n",
       "    .dataframe thead th {\n",
       "        text-align: right;\n",
       "    }\n",
       "</style>\n",
       "<table border=\"1\" class=\"dataframe\">\n",
       "  <thead>\n",
       "    <tr style=\"text-align: right;\">\n",
       "      <th></th>\n",
       "      <th>date</th>\n",
       "      <th>ordersPerDateA</th>\n",
       "      <th>revenuePerDateA</th>\n",
       "      <th>ordersPerDateB</th>\n",
       "      <th>revenuePerDateB</th>\n",
       "      <th>ordersCummulativeA</th>\n",
       "      <th>revenueCummulativeA</th>\n",
       "      <th>ordersCummulativeB</th>\n",
       "      <th>revenueCummulativeB</th>\n",
       "      <th>visitorsPerDateA</th>\n",
       "      <th>visitorsPerDateB</th>\n",
       "      <th>visitorsCummulativeA</th>\n",
       "      <th>visitorsCummulativeB</th>\n",
       "    </tr>\n",
       "  </thead>\n",
       "  <tbody>\n",
       "    <tr>\n",
       "      <th>0</th>\n",
       "      <td>2019-08-01</td>\n",
       "      <td>23</td>\n",
       "      <td>142779</td>\n",
       "      <td>17</td>\n",
       "      <td>59758</td>\n",
       "      <td>23</td>\n",
       "      <td>142779</td>\n",
       "      <td>17</td>\n",
       "      <td>59758</td>\n",
       "      <td>719</td>\n",
       "      <td>713</td>\n",
       "      <td>719</td>\n",
       "      <td>713</td>\n",
       "    </tr>\n",
       "    <tr>\n",
       "      <th>1</th>\n",
       "      <td>2019-08-02</td>\n",
       "      <td>19</td>\n",
       "      <td>91602</td>\n",
       "      <td>23</td>\n",
       "      <td>162043</td>\n",
       "      <td>42</td>\n",
       "      <td>234381</td>\n",
       "      <td>40</td>\n",
       "      <td>221801</td>\n",
       "      <td>619</td>\n",
       "      <td>581</td>\n",
       "      <td>1338</td>\n",
       "      <td>1294</td>\n",
       "    </tr>\n",
       "    <tr>\n",
       "      <th>2</th>\n",
       "      <td>2019-08-03</td>\n",
       "      <td>24</td>\n",
       "      <td>112473</td>\n",
       "      <td>14</td>\n",
       "      <td>67049</td>\n",
       "      <td>66</td>\n",
       "      <td>346854</td>\n",
       "      <td>54</td>\n",
       "      <td>288850</td>\n",
       "      <td>507</td>\n",
       "      <td>509</td>\n",
       "      <td>1845</td>\n",
       "      <td>1803</td>\n",
       "    </tr>\n",
       "    <tr>\n",
       "      <th>3</th>\n",
       "      <td>2019-08-04</td>\n",
       "      <td>11</td>\n",
       "      <td>41176</td>\n",
       "      <td>14</td>\n",
       "      <td>96890</td>\n",
       "      <td>77</td>\n",
       "      <td>388030</td>\n",
       "      <td>68</td>\n",
       "      <td>385740</td>\n",
       "      <td>717</td>\n",
       "      <td>770</td>\n",
       "      <td>2562</td>\n",
       "      <td>2573</td>\n",
       "    </tr>\n",
       "    <tr>\n",
       "      <th>4</th>\n",
       "      <td>2019-08-05</td>\n",
       "      <td>22</td>\n",
       "      <td>86383</td>\n",
       "      <td>21</td>\n",
       "      <td>89908</td>\n",
       "      <td>99</td>\n",
       "      <td>474413</td>\n",
       "      <td>89</td>\n",
       "      <td>475648</td>\n",
       "      <td>756</td>\n",
       "      <td>707</td>\n",
       "      <td>3318</td>\n",
       "      <td>3280</td>\n",
       "    </tr>\n",
       "  </tbody>\n",
       "</table>\n",
       "</div>"
      ],
      "text/plain": [
       "         date  ordersPerDateA  revenuePerDateA  ordersPerDateB  \\\n",
       "0  2019-08-01              23           142779              17   \n",
       "1  2019-08-02              19            91602              23   \n",
       "2  2019-08-03              24           112473              14   \n",
       "3  2019-08-04              11            41176              14   \n",
       "4  2019-08-05              22            86383              21   \n",
       "\n",
       "   revenuePerDateB  ordersCummulativeA  revenueCummulativeA  \\\n",
       "0            59758                  23               142779   \n",
       "1           162043                  42               234381   \n",
       "2            67049                  66               346854   \n",
       "3            96890                  77               388030   \n",
       "4            89908                  99               474413   \n",
       "\n",
       "   ordersCummulativeB  revenueCummulativeB  visitorsPerDateA  \\\n",
       "0                  17                59758               719   \n",
       "1                  40               221801               619   \n",
       "2                  54               288850               507   \n",
       "3                  68               385740               717   \n",
       "4                  89               475648               756   \n",
       "\n",
       "   visitorsPerDateB  visitorsCummulativeA  visitorsCummulativeB  \n",
       "0               713                   719                   713  \n",
       "1               581                  1338                  1294  \n",
       "2               509                  1845                  1803  \n",
       "3               770                  2562                  2573  \n",
       "4               707                  3318                  3280  "
      ]
     },
     "execution_count": 41,
     "metadata": {},
     "output_type": "execute_result"
    }
   ],
   "source": [
    "# Посчитаем аггрегированные и накапливаемые данные о заказах и выручке для А и В групп\n",
    "# и объединим по дате все полученные данные в одну таблицу\n",
    "\n",
    "ordersADaily = (\n",
    "    orders[orders['group'] == 'A'][['date', 'order_id', 'user_id', 'revenue']]\n",
    "    .groupby('date', as_index=False)\n",
    "    .agg({'order_id': pd.Series.nunique, 'revenue': 'sum'})\n",
    ")\n",
    "ordersADaily.columns = ['date', 'ordersPerDateA', 'revenuePerDateA']\n",
    "\n",
    "ordersACummulative = ordersADaily.apply(\n",
    "    lambda x: ordersADaily[ordersADaily['date'] <= x['date']].agg(\n",
    "        {'date': 'max', 'ordersPerDateA': 'sum', 'revenuePerDateA': 'sum'}\n",
    "    ),\n",
    "    axis=1,\n",
    ").sort_values(by=['date'])\n",
    "ordersACummulative.columns = [\n",
    "    'date',\n",
    "    'ordersCummulativeA',\n",
    "    'revenueCummulativeA',\n",
    "]\n",
    "\n",
    "ordersBDaily = (\n",
    "    orders[orders['group'] == 'B'][['date', 'order_id', 'user_id', 'revenue']]\n",
    "    .groupby('date', as_index=False)\n",
    "    .agg({'order_id': pd.Series.nunique, 'revenue': 'sum'})\n",
    ")\n",
    "ordersBDaily.columns = ['date', 'ordersPerDateB', 'revenuePerDateB']\n",
    "\n",
    "ordersBCummulative = ordersBDaily.apply(\n",
    "    lambda x: ordersBDaily[ordersBDaily['date'] <= x['date']].agg(\n",
    "        {'date': 'max', 'ordersPerDateB': 'sum', 'revenuePerDateB': 'sum'}\n",
    "    ),\n",
    "    axis=1,\n",
    ").sort_values(by=['date'])\n",
    "ordersBCummulative.columns = [\n",
    "    'date',\n",
    "    'ordersCummulativeB',\n",
    "    'revenueCummulativeB',\n",
    "]\n",
    "\n",
    "data = (\n",
    "    ordersADaily.merge(\n",
    "        ordersBDaily, left_on='date', right_on='date', how='left'\n",
    "    )\n",
    "    .merge(ordersACummulative, left_on='date', right_on='date', how='left')\n",
    "    .merge(ordersBCummulative, left_on='date', right_on='date', how='left')\n",
    "    .merge(visitorsADaily, left_on='date', right_on='date', how='left')\n",
    "    .merge(visitorsBDaily, left_on='date', right_on='date', how='left')\n",
    "    .merge(visitorsACummulative, left_on='date', right_on='date', how='left')\n",
    "    .merge(visitorsBCummulative, left_on='date', right_on='date', how='left')\n",
    ")\n",
    "\n",
    "data.head(5)"
   ]
  },
  {
   "cell_type": "markdown",
   "metadata": {},
   "source": [
    "Расшифровка:\n",
    "\n",
    "ordersPerDateA — количество заказов в выбранную дату в группе A;\n",
    "\n",
    "revenuePerDateA — суммарная выручка в выбранную дату в группе A;\n",
    "\n",
    "ordersPerDateB — количество заказов в выбранную дату в группе B;\n",
    "\n",
    "revenuePerDateB — суммарная выручка в выбранную дату в группе B;\n",
    "\n",
    "ordersCummulativeA — суммарное число заказов до выбранной даты включительно в группе A;\n",
    "\n",
    "revenueCummulativeA — суммарная выручка до выбранной даты включительно в группе A;\n",
    "\n",
    "ordersCummulativeB — суммарное количество заказов до выбранной даты включительно в группе B;\n",
    "\n",
    "revenueCummulativeB — суммарная выручка до выбранной даты включительно в группе B;\n",
    "\n",
    "visitorsPerDateA — количество пользователей в выбранную дату в группе A;\n",
    "\n",
    "visitorsPerDateB — количество пользователей в выбранную дату в группе B;\n",
    "\n",
    "visitorsCummulativeA — количество пользователей до выбранной даты включительно в группе A;\n",
    "\n",
    "visitorsCummulativeB — количество пользователей до выбранной даты включительно в группе B."
   ]
  },
  {
   "cell_type": "code",
   "execution_count": 42,
   "metadata": {},
   "outputs": [],
   "source": [
    "# Создадим переменные ordersByUsersA и ordersByUsersB со столбцами ['userId', 'orders']. \n",
    "# В них для пользователей, которые заказывали хотя бы 1 раз, укажем число совершённых заказов. \n",
    "\n",
    "ordersByUsersA = (\n",
    "    orders[orders['group'] == 'A']\n",
    "    .groupby('user_id', as_index=False)\n",
    "    .agg({'order_id': pd.Series.nunique})\n",
    ")\n",
    "ordersByUsersA.columns = ['user_id', 'orders']\n",
    "\n",
    "ordersByUsersB = (\n",
    "    orders[orders['group'] == 'B']\n",
    "    .groupby('user_id', as_index=False)\n",
    "    .agg({'order_id': pd.Series.nunique})\n",
    ")\n",
    "ordersByUsersB.columns = ['user_id', 'orders'] "
   ]
  },
  {
   "cell_type": "code",
   "execution_count": 43,
   "metadata": {},
   "outputs": [],
   "source": [
    "# Объявим переменные sampleA и sampleB, в которых пользователям из разных групп будет соответствовать количество заказов. \n",
    "# Это нужно, чтобы подготовить выборки к проверке критерием Манна-Уитни.\n",
    "\n",
    "sampleA = pd.concat(\n",
    "    [\n",
    "        ordersByUsersA['orders'],\n",
    "        pd.Series(\n",
    "            0,\n",
    "            index=np.arange(\n",
    "                data['visitorsPerDateA'].sum() - len(ordersByUsersA['orders'])\n",
    "            ),\n",
    "            name='orders',\n",
    "        ),\n",
    "    ],\n",
    "    axis=0,\n",
    ")\n",
    "sampleB = pd.concat(\n",
    "    [\n",
    "        ordersByUsersB['orders'],\n",
    "        pd.Series(\n",
    "            0,\n",
    "            index=np.arange(\n",
    "                data['visitorsPerDateB'].sum() - len(ordersByUsersB['orders'])\n",
    "            ),\n",
    "            name='orders',\n",
    "        ),\n",
    "    ],\n",
    "    axis=0,\n",
    ")"
   ]
  },
  {
   "cell_type": "markdown",
   "metadata": {},
   "source": [
    "Пусть будут две гипотезы:\n",
    "\n",
    "Гипотеза H0 - статистически значимых различий в количестве заказов между группами нет.\n",
    "\n",
    "Гипотеза H1 - статистически значимые различия есть."
   ]
  },
  {
   "cell_type": "code",
   "execution_count": 44,
   "metadata": {},
   "outputs": [
    {
     "name": "stdout",
     "output_type": "stream",
     "text": [
      "0.011\n",
      "0.160\n"
     ]
    }
   ],
   "source": [
    "print(\"{0:.3f}\".format(stats.mannwhitneyu(sampleA, sampleB)[1]))\n",
    "\n",
    "print(\"{0:.3f}\".format(sampleB.mean() / sampleA.mean() - 1))"
   ]
  },
  {
   "cell_type": "markdown",
   "metadata": {},
   "source": [
    "Р-value меньше 0.05, и нулевую гипотезу о том, что статистически значимых различий в количестве заказов между группами нет, следует отвергнуть. \n",
    "А относительный прирост количества заказов B-теста к количеству заказов А-теста равен 16%."
   ]
  },
  {
   "cell_type": "markdown",
   "metadata": {},
   "source": [
    "**2.11 Посчитаем статистическую значимость различий в среднем чеке заказа между группами по «сырым» данным.**"
   ]
  },
  {
   "cell_type": "markdown",
   "metadata": {},
   "source": [
    "Теперь попробуем найти относительные различия в среднем чеке между группами:\n",
    "\n",
    "Гипотеза H0 - статистически значимых различий в среднем чеке между группами нет.\n",
    "\n",
    "Гипотеза H1 - статистически значимые различия есть. "
   ]
  },
  {
   "cell_type": "code",
   "execution_count": 45,
   "metadata": {},
   "outputs": [
    {
     "name": "stdout",
     "output_type": "stream",
     "text": [
      "0.829\n",
      "0.287\n"
     ]
    }
   ],
   "source": [
    "print('{0:.3f}'.format(stats.mannwhitneyu(orders[orders['group']=='A']['revenue'], orders[orders['group']=='B']['revenue'])[1]))\n",
    "print('{0:.3f}'.format(orders[orders['group']=='B']['revenue'].mean()/orders[orders['group']=='A']['revenue'].mean()-1)) "
   ]
  },
  {
   "cell_type": "markdown",
   "metadata": {},
   "source": [
    "p-value сильно больше 0.05, нулевую гипотезу не отвергаем, статистически значимых отличий в среднем чеке между группами нет. Средний чек группы B значительно выше среднего чека группы A на 29%"
   ]
  },
  {
   "cell_type": "markdown",
   "metadata": {},
   "source": [
    "**2.12 Посчитаем статистическую значимость различий в среднем количестве заказов на посетителя между группами по «очищенным» данным.**"
   ]
  },
  {
   "cell_type": "markdown",
   "metadata": {},
   "source": [
    "Ранее мы определяли аномальных пользователей, которые сейчас нам пригодятся: те, кто совершил 2 и более заказов и случаи, когда сумма заказа превышает 26785 д.е."
   ]
  },
  {
   "cell_type": "code",
   "execution_count": 46,
   "metadata": {},
   "outputs": [
    {
     "name": "stdout",
     "output_type": "stream",
     "text": [
      "568     113298937\n",
      "1099    148427295\n",
      "928     204675465\n",
      "33      249864742\n",
      "684     358944393\n",
      "Name: user_id, dtype: int64\n",
      "58\n"
     ]
    }
   ],
   "source": [
    "usersWithManyOrders = pd.concat(\n",
    "    [\n",
    "        ordersByUsersA[ordersByUsersA['orders'] > 2]['user_id'],\n",
    "        ordersByUsersB[ordersByUsersB['orders'] > 2]['user_id'],\n",
    "    ],\n",
    "    axis=0,\n",
    ")\n",
    "usersWithExpensiveOrders = orders[orders['revenue'] > 26785]['user_id']\n",
    "abnormalUsers = (\n",
    "    pd.concat([usersWithManyOrders, usersWithExpensiveOrders], axis=0)\n",
    "    .drop_duplicates()\n",
    "    .sort_values()\n",
    ")\n",
    "print(abnormalUsers.head(5))\n",
    "print(abnormalUsers.shape[0]) "
   ]
  },
  {
   "cell_type": "markdown",
   "metadata": {},
   "source": [
    "Выдвигаем гипотезы:\n",
    "\n",
    "Гипотеза Н0 - различия в количестве заказов между группами по «очищенным» данным статистически не значимы\n",
    "\n",
    "Гипотеза Н1 - различия в количестве заказов между группами по «очищенным» данным статистически значимы"
   ]
  },
  {
   "cell_type": "code",
   "execution_count": 47,
   "metadata": {},
   "outputs": [],
   "source": [
    "# Сначала подготовим выборки количества заказов по пользователям по группам теста\n",
    "sampleAFiltered = pd.concat(\n",
    "    [\n",
    "        ordersByUsersA[\n",
    "            np.logical_not(ordersByUsersA['user_id'].isin(abnormalUsers))\n",
    "        ]['orders'],\n",
    "        pd.Series(\n",
    "            0,\n",
    "            index=np.arange(\n",
    "                data['visitorsPerDateA'].sum() - len(ordersByUsersA['orders'])\n",
    "            ),\n",
    "            name='orders',\n",
    "        ),\n",
    "    ],\n",
    "    axis=0,\n",
    ")\n",
    "\n",
    "sampleBFiltered = pd.concat(\n",
    "    [\n",
    "        ordersByUsersB[\n",
    "            np.logical_not(ordersByUsersB['user_id'].isin(abnormalUsers))\n",
    "        ]['orders'],\n",
    "        pd.Series(\n",
    "            0,\n",
    "            index=np.arange(\n",
    "                data['visitorsPerDateB'].sum() - len(ordersByUsersB['orders'])\n",
    "            ),\n",
    "            name='orders',\n",
    "        ),\n",
    "    ],\n",
    "    axis=0,\n",
    ") "
   ]
  },
  {
   "cell_type": "code",
   "execution_count": 48,
   "metadata": {},
   "outputs": [
    {
     "name": "stdout",
     "output_type": "stream",
     "text": [
      "0.012\n",
      "0.182\n"
     ]
    }
   ],
   "source": [
    "# Применим статистический критерий Манна-Уитни к полученным выборкам\n",
    "print('{0:.3f}'.format(stats.mannwhitneyu(sampleAFiltered, sampleBFiltered)[1]))\n",
    "print('{0:.3f}'.format(sampleBFiltered.mean()/sampleAFiltered.mean()-1)) "
   ]
  },
  {
   "cell_type": "markdown",
   "metadata": {},
   "source": [
    "p-value меньше 0.05, поэтому отвергаем нулевую гипотезу. Относительный прирост по очищенным данным группы B к группе А ненамного увеличился и равен 18%"
   ]
  },
  {
   "cell_type": "markdown",
   "metadata": {},
   "source": [
    "**2.13 Посчитаем статистическую значимость различий в среднем чеке заказа между группами по «очищенным» данным.**"
   ]
  },
  {
   "cell_type": "markdown",
   "metadata": {},
   "source": [
    "Выдвигаем гипотезы:\n",
    "\n",
    "Н0 - различия в среднем чеке заказа между группами по «очищенным» данным статистически не значимы\n",
    "\n",
    "Н1 - различия в среднем чеке заказа между группами по «очищенным» данным статистически значимы"
   ]
  },
  {
   "cell_type": "code",
   "execution_count": 49,
   "metadata": {},
   "outputs": [
    {
     "name": "stdout",
     "output_type": "stream",
     "text": [
      "0.646\n",
      "-0.048\n"
     ]
    }
   ],
   "source": [
    "print(\n",
    "    '{0:.3f}'.format(\n",
    "        stats.mannwhitneyu(\n",
    "            orders[\n",
    "                np.logical_and(\n",
    "                    orders['group'] == 'A',\n",
    "                    np.logical_not(orders['user_id'].isin(abnormalUsers)),\n",
    "                )\n",
    "            ]['revenue'],\n",
    "            orders[\n",
    "                np.logical_and(\n",
    "                    orders['group'] == 'B',\n",
    "                    np.logical_not(orders['user_id'].isin(abnormalUsers)),\n",
    "                )\n",
    "            ]['revenue'],\n",
    "        )[1]\n",
    "    )\n",
    ")\n",
    "\n",
    "print(\n",
    "    \"{0:.3f}\".format(\n",
    "        orders[\n",
    "            np.logical_and(\n",
    "                orders['group'] == 'B',\n",
    "                np.logical_not(orders['user_id'].isin(abnormalUsers)),\n",
    "            )\n",
    "        ]['revenue'].mean()\n",
    "        / orders[\n",
    "            np.logical_and(\n",
    "                orders['group'] == 'A',\n",
    "                np.logical_not(orders['user_id'].isin(abnormalUsers)),\n",
    "            )\n",
    "        ]['revenue'].mean()\n",
    "        - 1\n",
    "    )\n",
    ") \n"
   ]
  },
  {
   "cell_type": "markdown",
   "metadata": {},
   "source": [
    "p-value снова больше 0.05, поэтому нулевую гипотезу не отвергаем. Относительное различие среднего чека между группами практически нулевое"
   ]
  },
  {
   "cell_type": "markdown",
   "metadata": {},
   "source": [
    "**2.14 Принимаем решение по результатам теста и объясните его. Варианты решений:**\n",
    "1. Остановить тест, зафиксировать победу одной из групп.\n",
    "2. Остановить тест, зафиксировать отсутствие различий между группами.\n",
    "3. Продолжить тест."
   ]
  },
  {
   "cell_type": "markdown",
   "metadata": {},
   "source": [
    "На основе полученных результатов можно принять решение остановить тест и признать улучшение у группы В, так как конверсия у группы В намного лучше, чем у группы А и это подтверждается графиками, не учитывая факт отсутсвия значимых различий по среднему чеку между группами."
   ]
  },
  {
   "cell_type": "markdown",
   "metadata": {},
   "source": [
    "ВЫВОДЫ:\n",
    "- Имеются данные за август 2019 года, две группы теста А и В и 58 пользователей, попавшие одновременно в две группы и исключенные в дальнейшем\n",
    "\n",
    "- Наиболее привлекательной гипотезой по RICE оказалась гипотеза 7 - \"Добавить форму подписки на все основные страницы, чтобы собрать базу клиентов для email-рассылок\", хотя в ICE фреймворке была другая - гипотеза 8 \"Запустить акцию, дающую скидку на товар в день рождения\".\n",
    "- Статистически значимое различие по количеству заказов между группами есть и при сырых данных, и после очистки от аномалий. У группы В заказов больше.\n",
    "- И в том, и в другом случае не наблюдается статистически значимого различия по среднему чеку между группами.\n",
    "- График различия количеству заказов между группами показывает, что результаты группы B лучше группы A: имеют тенденцию к росту, либо зафиксировались около среднего значения.\n",
    "- График различия среднего чека до фильтрации аномалий колеблется: именно благодаря ему мы нашли аномалии. Сделать из этого графика определённые выводы нельзя.\n",
    "- График различия среднего чека после фильтрации постепенно стабилизировался около 0 - значимых различий между средними чеками в разных группах нет.\n",
    "- Подводя итоги, тест можно остановить. Группа В показала результаты получше. Статистически значимых различий по среднему чеку между группами нет, а вот по количеству заказов победила группа В, следовательно выручка у группы В была больше."
   ]
  }
 ],
 "metadata": {
  "ExecuteTimeLog": [
   {
    "duration": 1084,
    "start_time": "2022-02-26T16:32:50.713Z"
   },
   {
    "duration": 34,
    "start_time": "2022-02-26T16:35:32.773Z"
   },
   {
    "duration": 43,
    "start_time": "2022-02-26T16:37:13.708Z"
   },
   {
    "duration": 4,
    "start_time": "2022-02-26T16:38:56.885Z"
   },
   {
    "duration": 60,
    "start_time": "2022-02-26T16:45:01.592Z"
   },
   {
    "duration": 428,
    "start_time": "2022-02-26T16:45:09.012Z"
   },
   {
    "duration": 351,
    "start_time": "2022-02-26T16:45:52.541Z"
   },
   {
    "duration": 350,
    "start_time": "2022-02-26T16:57:02.986Z"
   },
   {
    "duration": 560,
    "start_time": "2022-02-26T17:00:30.887Z"
   },
   {
    "duration": 328,
    "start_time": "2022-02-26T17:01:38.423Z"
   },
   {
    "duration": 693,
    "start_time": "2022-02-26T17:01:55.759Z"
   },
   {
    "duration": 342,
    "start_time": "2022-02-26T17:03:06.036Z"
   },
   {
    "duration": 194,
    "start_time": "2022-02-26T17:03:55.434Z"
   },
   {
    "duration": 3,
    "start_time": "2022-02-26T17:04:08.049Z"
   },
   {
    "duration": 190,
    "start_time": "2022-02-26T17:13:21.214Z"
   },
   {
    "duration": 256,
    "start_time": "2022-02-26T17:14:27.428Z"
   },
   {
    "duration": 315,
    "start_time": "2022-02-26T17:15:21.115Z"
   },
   {
    "duration": 32,
    "start_time": "2022-02-26T17:15:37.390Z"
   },
   {
    "duration": 35,
    "start_time": "2022-02-26T17:16:18.876Z"
   },
   {
    "duration": 6,
    "start_time": "2022-02-26T17:18:58.415Z"
   },
   {
    "duration": 14,
    "start_time": "2022-02-26T17:19:38.596Z"
   },
   {
    "duration": 210,
    "start_time": "2022-02-26T17:28:00.688Z"
   },
   {
    "duration": 3,
    "start_time": "2022-02-26T17:28:07.695Z"
   },
   {
    "duration": 4,
    "start_time": "2022-02-26T17:29:20.799Z"
   },
   {
    "duration": 7,
    "start_time": "2022-02-26T17:29:23.840Z"
   },
   {
    "duration": 4,
    "start_time": "2022-02-26T17:35:59.739Z"
   },
   {
    "duration": 7,
    "start_time": "2022-02-26T17:36:28.947Z"
   },
   {
    "duration": 9,
    "start_time": "2022-02-26T17:36:44.300Z"
   },
   {
    "duration": 229,
    "start_time": "2022-02-26T17:37:39.749Z"
   },
   {
    "duration": 198,
    "start_time": "2022-02-26T17:38:02.230Z"
   },
   {
    "duration": 6,
    "start_time": "2022-02-26T17:38:36.487Z"
   },
   {
    "duration": 6,
    "start_time": "2022-02-26T17:38:54.669Z"
   },
   {
    "duration": 217,
    "start_time": "2022-02-26T18:07:24.461Z"
   },
   {
    "duration": 202,
    "start_time": "2022-02-26T18:07:30.173Z"
   },
   {
    "duration": 14,
    "start_time": "2022-02-26T18:07:35.680Z"
   },
   {
    "duration": 8,
    "start_time": "2022-02-26T18:10:15.361Z"
   },
   {
    "duration": 13,
    "start_time": "2022-02-26T18:29:45.847Z"
   },
   {
    "duration": 10,
    "start_time": "2022-02-26T18:30:05.382Z"
   },
   {
    "duration": 13,
    "start_time": "2022-02-26T18:30:13.054Z"
   },
   {
    "duration": 7572,
    "start_time": "2022-02-26T18:32:14.804Z"
   },
   {
    "duration": 5076,
    "start_time": "2022-02-26T18:32:29.302Z"
   },
   {
    "duration": 4672,
    "start_time": "2022-02-26T18:33:23.688Z"
   },
   {
    "duration": 214,
    "start_time": "2022-02-26T18:33:40.670Z"
   },
   {
    "duration": 18,
    "start_time": "2022-02-26T18:34:00.857Z"
   },
   {
    "duration": 185,
    "start_time": "2022-02-26T18:34:55.585Z"
   },
   {
    "duration": 190,
    "start_time": "2022-02-26T18:35:03.518Z"
   },
   {
    "duration": 187,
    "start_time": "2022-02-26T18:37:46.202Z"
   },
   {
    "duration": 194,
    "start_time": "2022-02-26T18:37:50.838Z"
   },
   {
    "duration": 11,
    "start_time": "2022-02-26T18:38:12.981Z"
   },
   {
    "duration": 19,
    "start_time": "2022-02-26T18:38:21.745Z"
   },
   {
    "duration": 196,
    "start_time": "2022-02-26T18:39:40.217Z"
   },
   {
    "duration": 221,
    "start_time": "2022-02-26T18:39:56.428Z"
   },
   {
    "duration": 63,
    "start_time": "2022-02-26T18:41:07.484Z"
   },
   {
    "duration": 22,
    "start_time": "2022-02-26T18:41:12.641Z"
   },
   {
    "duration": 20,
    "start_time": "2022-02-26T18:41:23.692Z"
   },
   {
    "duration": 17,
    "start_time": "2022-02-26T18:41:36.142Z"
   },
   {
    "duration": 215,
    "start_time": "2022-02-26T18:42:22.277Z"
   },
   {
    "duration": 12,
    "start_time": "2022-02-26T18:42:25.523Z"
   },
   {
    "duration": 528,
    "start_time": "2022-02-26T18:42:36.645Z"
   },
   {
    "duration": 13,
    "start_time": "2022-02-26T18:42:41.040Z"
   },
   {
    "duration": 13,
    "start_time": "2022-02-26T18:44:06.974Z"
   },
   {
    "duration": 12,
    "start_time": "2022-02-26T18:44:23.668Z"
   },
   {
    "duration": 17,
    "start_time": "2022-02-26T18:44:36.515Z"
   },
   {
    "duration": 13,
    "start_time": "2022-02-26T18:44:55.330Z"
   },
   {
    "duration": 14,
    "start_time": "2022-02-26T18:45:06.979Z"
   },
   {
    "duration": 217,
    "start_time": "2022-02-26T18:47:38.439Z"
   },
   {
    "duration": 199,
    "start_time": "2022-02-26T18:47:46.445Z"
   },
   {
    "duration": 16,
    "start_time": "2022-02-26T18:51:34.681Z"
   },
   {
    "duration": 16,
    "start_time": "2022-02-26T18:51:52.504Z"
   },
   {
    "duration": 12,
    "start_time": "2022-02-26T18:52:08.629Z"
   },
   {
    "duration": 11,
    "start_time": "2022-02-26T18:52:19.396Z"
   },
   {
    "duration": 215,
    "start_time": "2022-02-26T18:52:31.722Z"
   },
   {
    "duration": 32,
    "start_time": "2022-02-26T18:52:59.515Z"
   },
   {
    "duration": 13,
    "start_time": "2022-02-26T18:53:03.565Z"
   },
   {
    "duration": 198,
    "start_time": "2022-02-26T18:53:08.810Z"
   },
   {
    "duration": 21,
    "start_time": "2022-02-26T18:53:26.213Z"
   },
   {
    "duration": 23,
    "start_time": "2022-02-26T18:53:54.109Z"
   },
   {
    "duration": 29,
    "start_time": "2022-02-26T18:54:11.747Z"
   },
   {
    "duration": 25,
    "start_time": "2022-02-26T18:54:21.739Z"
   },
   {
    "duration": 27,
    "start_time": "2022-02-26T18:56:31.745Z"
   },
   {
    "duration": 17,
    "start_time": "2022-02-26T18:56:51.803Z"
   },
   {
    "duration": 18,
    "start_time": "2022-02-26T18:57:07.981Z"
   },
   {
    "duration": 18,
    "start_time": "2022-02-26T18:57:11.917Z"
   },
   {
    "duration": 13,
    "start_time": "2022-02-26T18:58:32.975Z"
   },
   {
    "duration": 12,
    "start_time": "2022-02-26T18:59:02.649Z"
   },
   {
    "duration": 16,
    "start_time": "2022-02-26T18:59:11.514Z"
   },
   {
    "duration": 5236,
    "start_time": "2022-02-26T19:00:52.344Z"
   },
   {
    "duration": 12,
    "start_time": "2022-02-26T19:04:32.107Z"
   },
   {
    "duration": 11,
    "start_time": "2022-02-26T19:04:47.068Z"
   },
   {
    "duration": 11,
    "start_time": "2022-02-26T19:04:55.359Z"
   },
   {
    "duration": 209,
    "start_time": "2022-02-26T19:07:35.118Z"
   },
   {
    "duration": 199,
    "start_time": "2022-02-26T19:07:42.287Z"
   },
   {
    "duration": 396,
    "start_time": "2022-02-26T19:11:34.692Z"
   },
   {
    "duration": 554,
    "start_time": "2022-02-26T19:11:43.684Z"
   },
   {
    "duration": 401,
    "start_time": "2022-02-26T19:11:48.762Z"
   },
   {
    "duration": 7,
    "start_time": "2022-02-26T19:13:07.282Z"
   },
   {
    "duration": 7,
    "start_time": "2022-02-26T19:13:11.406Z"
   },
   {
    "duration": 256,
    "start_time": "2022-02-26T19:18:44.690Z"
   },
   {
    "duration": 6,
    "start_time": "2022-02-26T19:18:53.762Z"
   },
   {
    "duration": 21,
    "start_time": "2022-02-26T19:19:02.330Z"
   },
   {
    "duration": 21,
    "start_time": "2022-02-26T19:19:11.913Z"
   },
   {
    "duration": 4753,
    "start_time": "2022-02-26T19:19:53.671Z"
   },
   {
    "duration": 9,
    "start_time": "2022-02-26T19:19:58.766Z"
   },
   {
    "duration": 8,
    "start_time": "2022-02-26T19:20:01.604Z"
   },
   {
    "duration": 5,
    "start_time": "2022-02-26T19:20:08.177Z"
   },
   {
    "duration": 12,
    "start_time": "2022-02-26T19:20:17.595Z"
   },
   {
    "duration": 16,
    "start_time": "2022-02-26T19:20:33.035Z"
   },
   {
    "duration": 15,
    "start_time": "2022-02-26T19:21:02.897Z"
   },
   {
    "duration": -43,
    "start_time": "2022-02-26T19:21:24.923Z"
   },
   {
    "duration": 8,
    "start_time": "2022-02-26T19:21:26.960Z"
   },
   {
    "duration": 12,
    "start_time": "2022-02-26T19:21:29.685Z"
   },
   {
    "duration": 16,
    "start_time": "2022-02-26T19:21:47.561Z"
   },
   {
    "duration": 1241,
    "start_time": "2022-02-26T19:22:00.876Z"
   },
   {
    "duration": 10,
    "start_time": "2022-02-26T19:23:12.352Z"
   },
   {
    "duration": 12,
    "start_time": "2022-02-26T19:23:19.434Z"
   },
   {
    "duration": 15,
    "start_time": "2022-02-26T19:23:30.140Z"
   },
   {
    "duration": 9,
    "start_time": "2022-02-26T19:23:40.163Z"
   },
   {
    "duration": 10,
    "start_time": "2022-02-26T19:32:50.973Z"
   },
   {
    "duration": 12,
    "start_time": "2022-02-26T19:33:15.507Z"
   },
   {
    "duration": 10,
    "start_time": "2022-02-26T19:33:50.816Z"
   },
   {
    "duration": 13,
    "start_time": "2022-02-26T19:34:14.397Z"
   },
   {
    "duration": 15,
    "start_time": "2022-02-26T19:34:46.039Z"
   },
   {
    "duration": 16,
    "start_time": "2022-02-26T19:34:54.722Z"
   },
   {
    "duration": 20,
    "start_time": "2022-02-26T19:37:30.547Z"
   },
   {
    "duration": 25,
    "start_time": "2022-02-26T19:37:42.568Z"
   },
   {
    "duration": 23,
    "start_time": "2022-02-26T19:38:49.884Z"
   },
   {
    "duration": 17,
    "start_time": "2022-02-26T19:43:00.597Z"
   },
   {
    "duration": 22,
    "start_time": "2022-02-26T19:43:33.132Z"
   },
   {
    "duration": 1081,
    "start_time": "2022-02-26T19:43:49.977Z"
   },
   {
    "duration": 39,
    "start_time": "2022-02-26T19:43:51.061Z"
   },
   {
    "duration": 39,
    "start_time": "2022-02-26T19:43:51.103Z"
   },
   {
    "duration": 4,
    "start_time": "2022-02-26T19:43:51.145Z"
   },
   {
    "duration": 18,
    "start_time": "2022-02-26T19:43:51.151Z"
   },
   {
    "duration": 10,
    "start_time": "2022-02-26T19:43:51.171Z"
   },
   {
    "duration": 13,
    "start_time": "2022-02-26T19:43:51.183Z"
   },
   {
    "duration": 15,
    "start_time": "2022-02-26T19:43:51.199Z"
   },
   {
    "duration": 55,
    "start_time": "2022-02-26T19:43:51.216Z"
   },
   {
    "duration": 15,
    "start_time": "2022-02-26T19:43:51.272Z"
   },
   {
    "duration": 18,
    "start_time": "2022-02-26T19:43:51.289Z"
   },
   {
    "duration": 7,
    "start_time": "2022-02-26T19:43:51.309Z"
   },
   {
    "duration": 13,
    "start_time": "2022-02-26T19:43:51.318Z"
   },
   {
    "duration": 278,
    "start_time": "2022-02-26T19:43:51.333Z"
   },
   {
    "duration": 1131,
    "start_time": "2022-02-26T19:46:09.110Z"
   },
   {
    "duration": 40,
    "start_time": "2022-02-26T19:46:10.243Z"
   },
   {
    "duration": 37,
    "start_time": "2022-02-26T19:46:10.287Z"
   },
   {
    "duration": 3,
    "start_time": "2022-02-26T19:46:10.326Z"
   },
   {
    "duration": 32,
    "start_time": "2022-02-26T19:46:10.331Z"
   },
   {
    "duration": 5,
    "start_time": "2022-02-26T19:46:10.365Z"
   },
   {
    "duration": 12,
    "start_time": "2022-02-26T19:46:10.372Z"
   },
   {
    "duration": 9,
    "start_time": "2022-02-26T19:46:10.386Z"
   },
   {
    "duration": 24,
    "start_time": "2022-02-26T19:46:10.396Z"
   },
   {
    "duration": 5,
    "start_time": "2022-02-26T19:46:10.422Z"
   },
   {
    "duration": 43,
    "start_time": "2022-02-26T19:46:10.428Z"
   },
   {
    "duration": 7,
    "start_time": "2022-02-26T19:46:10.473Z"
   },
   {
    "duration": 8,
    "start_time": "2022-02-26T19:46:10.481Z"
   },
   {
    "duration": 265,
    "start_time": "2022-02-26T19:46:10.491Z"
   },
   {
    "duration": 17,
    "start_time": "2022-02-26T19:49:50.954Z"
   },
   {
    "duration": 6,
    "start_time": "2022-02-26T19:49:53.132Z"
   },
   {
    "duration": 7,
    "start_time": "2022-02-26T19:49:54.296Z"
   },
   {
    "duration": 226,
    "start_time": "2022-02-26T19:49:55.566Z"
   },
   {
    "duration": 254,
    "start_time": "2022-02-26T19:53:46.072Z"
   },
   {
    "duration": 246,
    "start_time": "2022-02-26T19:57:35.984Z"
   },
   {
    "duration": 6,
    "start_time": "2022-02-26T19:59:12.943Z"
   },
   {
    "duration": 12,
    "start_time": "2022-02-26T19:59:18.627Z"
   },
   {
    "duration": 6,
    "start_time": "2022-02-26T20:01:21.896Z"
   },
   {
    "duration": 12,
    "start_time": "2022-02-26T20:01:24.030Z"
   },
   {
    "duration": 9,
    "start_time": "2022-02-26T20:04:54.825Z"
   },
   {
    "duration": 315,
    "start_time": "2022-02-26T20:05:30.427Z"
   },
   {
    "duration": 318,
    "start_time": "2022-02-26T20:05:35.774Z"
   },
   {
    "duration": 8,
    "start_time": "2022-02-26T20:06:07.771Z"
   },
   {
    "duration": 292,
    "start_time": "2022-02-26T20:06:10.787Z"
   },
   {
    "duration": 8,
    "start_time": "2022-02-26T20:06:50.914Z"
   },
   {
    "duration": 270,
    "start_time": "2022-02-26T20:06:53.006Z"
   },
   {
    "duration": 9,
    "start_time": "2022-02-26T20:07:39.903Z"
   },
   {
    "duration": 321,
    "start_time": "2022-02-26T20:07:40.965Z"
   },
   {
    "duration": 256,
    "start_time": "2022-02-26T20:08:03.284Z"
   },
   {
    "duration": 473,
    "start_time": "2022-02-26T20:08:34.763Z"
   },
   {
    "duration": 336,
    "start_time": "2022-02-26T20:09:47.771Z"
   },
   {
    "duration": 13,
    "start_time": "2022-02-26T20:13:59.853Z"
   },
   {
    "duration": 5438,
    "start_time": "2022-02-26T20:16:56.490Z"
   },
   {
    "duration": 267,
    "start_time": "2022-02-26T20:17:09.540Z"
   },
   {
    "duration": 4,
    "start_time": "2022-02-26T20:17:19.236Z"
   },
   {
    "duration": 219,
    "start_time": "2022-02-26T20:17:21.675Z"
   },
   {
    "duration": 385,
    "start_time": "2022-02-26T20:21:39.219Z"
   },
   {
    "duration": 346,
    "start_time": "2022-02-26T20:22:02.186Z"
   },
   {
    "duration": 7,
    "start_time": "2022-02-26T20:28:14.064Z"
   },
   {
    "duration": 9,
    "start_time": "2022-02-26T20:28:18.236Z"
   },
   {
    "duration": 7,
    "start_time": "2022-02-26T20:29:16.825Z"
   },
   {
    "duration": 8,
    "start_time": "2022-02-26T20:29:37.577Z"
   },
   {
    "duration": 7,
    "start_time": "2022-02-26T20:30:06.930Z"
   },
   {
    "duration": 7,
    "start_time": "2022-02-26T20:31:44.833Z"
   },
   {
    "duration": 3683,
    "start_time": "2022-02-26T20:33:04.270Z"
   },
   {
    "duration": 256,
    "start_time": "2022-02-26T20:33:14.601Z"
   },
   {
    "duration": 10,
    "start_time": "2022-02-26T20:33:43.950Z"
   },
   {
    "duration": 397,
    "start_time": "2022-02-26T20:33:46.734Z"
   },
   {
    "duration": 76,
    "start_time": "2022-02-26T20:35:31.641Z"
   },
   {
    "duration": 5,
    "start_time": "2022-02-26T20:35:53.125Z"
   },
   {
    "duration": 279,
    "start_time": "2022-02-26T20:41:37.236Z"
   },
   {
    "duration": 279,
    "start_time": "2022-02-26T20:42:00.125Z"
   },
   {
    "duration": 237,
    "start_time": "2022-02-26T20:42:26.311Z"
   },
   {
    "duration": 8,
    "start_time": "2022-02-26T20:42:50.620Z"
   },
   {
    "duration": 9,
    "start_time": "2022-02-26T20:44:33.788Z"
   },
   {
    "duration": 372,
    "start_time": "2022-02-26T20:46:00.384Z"
   },
   {
    "duration": 15,
    "start_time": "2022-02-26T20:53:10.711Z"
   },
   {
    "duration": 13,
    "start_time": "2022-02-26T20:55:33.806Z"
   },
   {
    "duration": 7,
    "start_time": "2022-02-26T20:58:11.739Z"
   },
   {
    "duration": 10,
    "start_time": "2022-02-26T20:58:58.974Z"
   },
   {
    "duration": 12,
    "start_time": "2022-02-26T20:59:15.518Z"
   },
   {
    "duration": 22,
    "start_time": "2022-02-26T21:00:02.937Z"
   },
   {
    "duration": 64,
    "start_time": "2022-02-26T21:00:41.898Z"
   },
   {
    "duration": 203,
    "start_time": "2022-02-26T21:00:47.691Z"
   },
   {
    "duration": 4,
    "start_time": "2022-02-26T21:01:00.659Z"
   },
   {
    "duration": 230,
    "start_time": "2022-02-26T21:01:04.409Z"
   },
   {
    "duration": 17,
    "start_time": "2022-02-26T21:01:22.214Z"
   },
   {
    "duration": 769,
    "start_time": "2022-02-26T21:04:32.604Z"
   },
   {
    "duration": 4,
    "start_time": "2022-02-26T21:04:46.057Z"
   },
   {
    "duration": 8,
    "start_time": "2022-02-26T21:04:47.505Z"
   },
   {
    "duration": 12,
    "start_time": "2022-02-26T21:04:57.445Z"
   },
   {
    "duration": 10,
    "start_time": "2022-02-26T21:05:07.771Z"
   },
   {
    "duration": 4,
    "start_time": "2022-02-26T21:05:16.396Z"
   },
   {
    "duration": 8,
    "start_time": "2022-02-26T21:05:38.660Z"
   },
   {
    "duration": 3,
    "start_time": "2022-02-26T21:06:02.135Z"
   },
   {
    "duration": 11,
    "start_time": "2022-02-26T21:06:05.461Z"
   },
   {
    "duration": 4,
    "start_time": "2022-02-26T21:06:43.423Z"
   },
   {
    "duration": 8,
    "start_time": "2022-02-26T21:07:11.410Z"
   },
   {
    "duration": 10,
    "start_time": "2022-02-26T21:07:13.546Z"
   },
   {
    "duration": 4,
    "start_time": "2022-02-26T21:07:17.220Z"
   },
   {
    "duration": 9,
    "start_time": "2022-02-26T21:07:27.214Z"
   },
   {
    "duration": 824,
    "start_time": "2022-02-26T21:07:45.857Z"
   },
   {
    "duration": 4,
    "start_time": "2022-02-26T21:08:09.700Z"
   },
   {
    "duration": 9,
    "start_time": "2022-02-26T21:08:12.816Z"
   },
   {
    "duration": 3,
    "start_time": "2022-02-26T21:08:29.920Z"
   },
   {
    "duration": 8,
    "start_time": "2022-02-26T21:08:36.392Z"
   },
   {
    "duration": 3,
    "start_time": "2022-02-26T21:09:03.813Z"
   },
   {
    "duration": 11,
    "start_time": "2022-02-26T21:09:07.165Z"
   },
   {
    "duration": 11,
    "start_time": "2022-02-26T21:09:12.057Z"
   },
   {
    "duration": 16,
    "start_time": "2022-02-26T21:09:46.181Z"
   },
   {
    "duration": 13,
    "start_time": "2022-02-26T21:10:58.242Z"
   },
   {
    "duration": 15,
    "start_time": "2022-02-26T21:12:15.382Z"
   },
   {
    "duration": 8,
    "start_time": "2022-02-26T21:12:47.373Z"
   },
   {
    "duration": 10,
    "start_time": "2022-02-26T21:12:55.972Z"
   },
   {
    "duration": 11,
    "start_time": "2022-02-26T21:16:23.539Z"
   },
   {
    "duration": 10,
    "start_time": "2022-02-26T21:16:50.951Z"
   },
   {
    "duration": 16,
    "start_time": "2022-02-26T21:18:12.367Z"
   },
   {
    "duration": 11,
    "start_time": "2022-02-26T21:19:21.452Z"
   },
   {
    "duration": 4,
    "start_time": "2022-02-26T21:20:14.428Z"
   },
   {
    "duration": 7,
    "start_time": "2022-02-26T21:20:20.852Z"
   },
   {
    "duration": 9,
    "start_time": "2022-02-26T21:21:08.985Z"
   },
   {
    "duration": 7,
    "start_time": "2022-02-26T21:21:10.177Z"
   },
   {
    "duration": 199,
    "start_time": "2022-02-26T21:22:49.570Z"
   },
   {
    "duration": 15,
    "start_time": "2022-02-26T21:23:13.653Z"
   },
   {
    "duration": 6,
    "start_time": "2022-02-26T21:23:43.928Z"
   },
   {
    "duration": 6,
    "start_time": "2022-02-26T21:23:54.101Z"
   },
   {
    "duration": 10,
    "start_time": "2022-02-26T21:23:57.806Z"
   },
   {
    "duration": 7,
    "start_time": "2022-02-26T21:24:17.486Z"
   },
   {
    "duration": 10,
    "start_time": "2022-02-26T21:24:37.178Z"
   },
   {
    "duration": 12,
    "start_time": "2022-02-26T21:25:22.438Z"
   },
   {
    "duration": 14,
    "start_time": "2022-02-26T21:27:18.023Z"
   },
   {
    "duration": 7,
    "start_time": "2022-02-26T21:27:37.087Z"
   },
   {
    "duration": 1136,
    "start_time": "2022-02-26T21:27:51.627Z"
   },
   {
    "duration": 34,
    "start_time": "2022-02-26T21:27:52.765Z"
   },
   {
    "duration": 36,
    "start_time": "2022-02-26T21:27:52.801Z"
   },
   {
    "duration": 4,
    "start_time": "2022-02-26T21:27:52.839Z"
   },
   {
    "duration": 19,
    "start_time": "2022-02-26T21:27:52.844Z"
   },
   {
    "duration": 5,
    "start_time": "2022-02-26T21:27:52.865Z"
   },
   {
    "duration": 18,
    "start_time": "2022-02-26T21:27:52.872Z"
   },
   {
    "duration": 10,
    "start_time": "2022-02-26T21:27:52.894Z"
   },
   {
    "duration": 27,
    "start_time": "2022-02-26T21:27:52.907Z"
   },
   {
    "duration": 7,
    "start_time": "2022-02-26T21:27:52.963Z"
   },
   {
    "duration": 20,
    "start_time": "2022-02-26T21:27:52.972Z"
   },
   {
    "duration": 7,
    "start_time": "2022-02-26T21:27:52.994Z"
   },
   {
    "duration": 8,
    "start_time": "2022-02-26T21:27:53.003Z"
   },
   {
    "duration": 288,
    "start_time": "2022-02-26T21:27:53.012Z"
   },
   {
    "duration": 262,
    "start_time": "2022-02-26T21:27:53.303Z"
   },
   {
    "duration": 7,
    "start_time": "2022-02-26T21:27:53.567Z"
   },
   {
    "duration": 353,
    "start_time": "2022-02-26T21:27:53.576Z"
   },
   {
    "duration": 10,
    "start_time": "2022-02-26T21:27:53.931Z"
   },
   {
    "duration": 25,
    "start_time": "2022-02-26T21:27:53.943Z"
   },
   {
    "duration": 8,
    "start_time": "2022-02-26T21:27:53.970Z"
   },
   {
    "duration": 5247,
    "start_time": "2022-02-26T21:27:53.979Z"
   },
   {
    "duration": -27,
    "start_time": "2022-02-26T21:27:59.255Z"
   },
   {
    "duration": -29,
    "start_time": "2022-02-26T21:27:59.258Z"
   },
   {
    "duration": -31,
    "start_time": "2022-02-26T21:27:59.262Z"
   },
   {
    "duration": -42,
    "start_time": "2022-02-26T21:27:59.274Z"
   },
   {
    "duration": -46,
    "start_time": "2022-02-26T21:27:59.279Z"
   },
   {
    "duration": -57,
    "start_time": "2022-02-26T21:27:59.292Z"
   },
   {
    "duration": -70,
    "start_time": "2022-02-26T21:27:59.306Z"
   },
   {
    "duration": -72,
    "start_time": "2022-02-26T21:27:59.310Z"
   },
   {
    "duration": 7,
    "start_time": "2022-02-26T21:28:50.347Z"
   },
   {
    "duration": 204,
    "start_time": "2022-02-26T21:30:14.105Z"
   },
   {
    "duration": 5,
    "start_time": "2022-02-26T21:30:25.562Z"
   },
   {
    "duration": 5348,
    "start_time": "2022-02-26T21:30:28.679Z"
   },
   {
    "duration": 241,
    "start_time": "2022-02-26T21:30:50.958Z"
   },
   {
    "duration": 7,
    "start_time": "2022-02-26T21:31:14.562Z"
   },
   {
    "duration": 5,
    "start_time": "2022-02-26T21:31:15.672Z"
   },
   {
    "duration": 240,
    "start_time": "2022-02-26T21:31:16.557Z"
   },
   {
    "duration": 12,
    "start_time": "2022-02-26T21:31:33.511Z"
   },
   {
    "duration": 188,
    "start_time": "2022-02-26T21:31:40.305Z"
   },
   {
    "duration": 10,
    "start_time": "2022-02-26T21:31:45.825Z"
   },
   {
    "duration": 6,
    "start_time": "2022-02-26T21:31:54.698Z"
   },
   {
    "duration": 7,
    "start_time": "2022-02-26T21:32:03.088Z"
   },
   {
    "duration": 7,
    "start_time": "2022-02-26T21:32:04.739Z"
   },
   {
    "duration": 238,
    "start_time": "2022-02-26T21:32:07.605Z"
   },
   {
    "duration": 250,
    "start_time": "2022-02-26T21:32:12.862Z"
   },
   {
    "duration": 9,
    "start_time": "2022-02-26T21:32:16.867Z"
   },
   {
    "duration": 400,
    "start_time": "2022-02-26T21:32:19.832Z"
   },
   {
    "duration": 8,
    "start_time": "2022-02-26T21:32:32.174Z"
   },
   {
    "duration": 5,
    "start_time": "2022-02-26T21:32:39.497Z"
   },
   {
    "duration": 12,
    "start_time": "2022-02-26T21:32:41.434Z"
   },
   {
    "duration": 35,
    "start_time": "2022-02-26T21:32:57.159Z"
   },
   {
    "duration": 7,
    "start_time": "2022-02-26T21:33:25.732Z"
   },
   {
    "duration": 11,
    "start_time": "2022-02-26T21:33:28.839Z"
   },
   {
    "duration": 8,
    "start_time": "2022-02-26T21:33:35.964Z"
   },
   {
    "duration": 8,
    "start_time": "2022-02-26T21:33:38.906Z"
   },
   {
    "duration": 9,
    "start_time": "2022-02-26T21:33:41.756Z"
   },
   {
    "duration": 7,
    "start_time": "2022-02-26T21:33:45.324Z"
   },
   {
    "duration": 10,
    "start_time": "2022-02-26T21:33:46.612Z"
   },
   {
    "duration": 6,
    "start_time": "2022-02-26T21:34:06.630Z"
   },
   {
    "duration": 6,
    "start_time": "2022-02-26T21:34:25.822Z"
   },
   {
    "duration": 9,
    "start_time": "2022-02-26T21:35:05.586Z"
   },
   {
    "duration": 10,
    "start_time": "2022-02-26T21:35:11.554Z"
   },
   {
    "duration": 5,
    "start_time": "2022-02-26T21:35:18.022Z"
   },
   {
    "duration": 243,
    "start_time": "2022-02-26T21:35:22.461Z"
   },
   {
    "duration": 11,
    "start_time": "2022-02-26T21:35:43.593Z"
   },
   {
    "duration": 11,
    "start_time": "2022-02-26T21:36:05.818Z"
   },
   {
    "duration": 11,
    "start_time": "2022-02-26T21:36:18.924Z"
   },
   {
    "duration": 6,
    "start_time": "2022-02-26T21:37:35.154Z"
   },
   {
    "duration": 12,
    "start_time": "2022-02-26T21:37:47.654Z"
   },
   {
    "duration": 7,
    "start_time": "2022-02-26T21:38:25.957Z"
   },
   {
    "duration": 8,
    "start_time": "2022-02-26T21:38:41.321Z"
   },
   {
    "duration": 7,
    "start_time": "2022-02-26T21:38:42.539Z"
   },
   {
    "duration": 8,
    "start_time": "2022-02-26T21:38:49.877Z"
   },
   {
    "duration": 5,
    "start_time": "2022-02-26T21:38:52.122Z"
   },
   {
    "duration": 252,
    "start_time": "2022-02-26T21:38:54.472Z"
   },
   {
    "duration": 11,
    "start_time": "2022-02-26T21:39:24.354Z"
   },
   {
    "duration": 11,
    "start_time": "2022-02-26T21:39:31.990Z"
   },
   {
    "duration": 393,
    "start_time": "2022-02-26T21:42:10.450Z"
   },
   {
    "duration": 1075,
    "start_time": "2022-02-26T21:42:56.892Z"
   },
   {
    "duration": 40,
    "start_time": "2022-02-26T21:42:57.970Z"
   },
   {
    "duration": 40,
    "start_time": "2022-02-26T21:42:58.012Z"
   },
   {
    "duration": 9,
    "start_time": "2022-02-26T21:42:58.054Z"
   },
   {
    "duration": 13,
    "start_time": "2022-02-26T21:42:58.065Z"
   },
   {
    "duration": 11,
    "start_time": "2022-02-26T21:42:58.080Z"
   },
   {
    "duration": 12,
    "start_time": "2022-02-26T21:42:58.093Z"
   },
   {
    "duration": 14,
    "start_time": "2022-02-26T21:42:58.107Z"
   },
   {
    "duration": 42,
    "start_time": "2022-02-26T21:42:58.124Z"
   },
   {
    "duration": 6,
    "start_time": "2022-02-26T21:42:58.169Z"
   },
   {
    "duration": 19,
    "start_time": "2022-02-26T21:42:58.177Z"
   },
   {
    "duration": 8,
    "start_time": "2022-02-26T21:42:58.199Z"
   },
   {
    "duration": 10,
    "start_time": "2022-02-26T21:42:58.209Z"
   },
   {
    "duration": 288,
    "start_time": "2022-02-26T21:42:58.221Z"
   },
   {
    "duration": 377,
    "start_time": "2022-02-26T21:42:58.511Z"
   },
   {
    "duration": 10,
    "start_time": "2022-02-26T21:42:58.890Z"
   },
   {
    "duration": 353,
    "start_time": "2022-02-26T21:42:58.902Z"
   },
   {
    "duration": 11,
    "start_time": "2022-02-26T21:42:59.257Z"
   },
   {
    "duration": 8,
    "start_time": "2022-02-26T21:42:59.270Z"
   },
   {
    "duration": 259,
    "start_time": "2022-02-26T21:42:59.279Z"
   },
   {
    "duration": 383,
    "start_time": "2022-02-26T21:42:59.540Z"
   },
   {
    "duration": 7,
    "start_time": "2022-02-26T21:42:59.925Z"
   },
   {
    "duration": 335,
    "start_time": "2022-02-26T21:42:59.934Z"
   },
   {
    "duration": 4,
    "start_time": "2022-02-26T21:43:00.271Z"
   },
   {
    "duration": 16,
    "start_time": "2022-02-26T21:43:00.277Z"
   },
   {
    "duration": 282,
    "start_time": "2022-02-26T21:43:00.294Z"
   },
   {
    "duration": 16,
    "start_time": "2022-02-26T21:43:00.579Z"
   },
   {
    "duration": 20,
    "start_time": "2022-02-26T21:43:00.596Z"
   },
   {
    "duration": 10,
    "start_time": "2022-02-26T21:52:12.054Z"
   },
   {
    "duration": 8,
    "start_time": "2022-02-26T21:52:29.303Z"
   },
   {
    "duration": 9,
    "start_time": "2022-02-26T21:52:39.786Z"
   },
   {
    "duration": 12,
    "start_time": "2022-02-26T21:53:39.030Z"
   },
   {
    "duration": 9,
    "start_time": "2022-02-26T21:54:23.440Z"
   },
   {
    "duration": 9,
    "start_time": "2022-02-26T21:56:20.827Z"
   },
   {
    "duration": 8,
    "start_time": "2022-02-26T21:56:57.387Z"
   },
   {
    "duration": 9,
    "start_time": "2022-02-26T21:57:27.029Z"
   },
   {
    "duration": 6,
    "start_time": "2022-02-26T21:57:51.369Z"
   },
   {
    "duration": 10,
    "start_time": "2022-02-26T21:57:54.957Z"
   },
   {
    "duration": 11,
    "start_time": "2022-02-26T21:58:06.446Z"
   },
   {
    "duration": 9,
    "start_time": "2022-02-26T21:58:11.442Z"
   },
   {
    "duration": 9,
    "start_time": "2022-02-26T21:58:24.296Z"
   },
   {
    "duration": 9,
    "start_time": "2022-02-26T21:58:25.242Z"
   },
   {
    "duration": 7,
    "start_time": "2022-02-26T21:59:50.771Z"
   },
   {
    "duration": 10,
    "start_time": "2022-02-26T21:59:52.803Z"
   },
   {
    "duration": 73,
    "start_time": "2022-02-26T22:01:34.548Z"
   },
   {
    "duration": 3,
    "start_time": "2022-02-26T22:01:39.909Z"
   },
   {
    "duration": 9,
    "start_time": "2022-02-26T22:01:47.892Z"
   },
   {
    "duration": 14,
    "start_time": "2022-02-26T22:02:31.712Z"
   },
   {
    "duration": 9,
    "start_time": "2022-02-26T22:02:33.354Z"
   },
   {
    "duration": 14,
    "start_time": "2022-02-26T22:03:25.492Z"
   },
   {
    "duration": 516,
    "start_time": "2022-02-26T22:03:30.229Z"
   },
   {
    "duration": 9,
    "start_time": "2022-02-26T22:03:34.534Z"
   },
   {
    "duration": 329,
    "start_time": "2022-02-26T22:06:31.131Z"
   },
   {
    "duration": 8,
    "start_time": "2022-02-26T22:06:57.852Z"
   },
   {
    "duration": 206,
    "start_time": "2022-02-26T22:07:03.926Z"
   },
   {
    "duration": 47,
    "start_time": "2022-02-26T22:07:10.106Z"
   },
   {
    "duration": 8,
    "start_time": "2022-02-26T22:07:15.842Z"
   },
   {
    "duration": 205,
    "start_time": "2022-02-26T22:08:15.998Z"
   },
   {
    "duration": 60,
    "start_time": "2022-02-26T22:08:23.662Z"
   },
   {
    "duration": 8,
    "start_time": "2022-02-26T22:08:25.230Z"
   },
   {
    "duration": 4962,
    "start_time": "2022-02-26T22:10:29.389Z"
   },
   {
    "duration": 8,
    "start_time": "2022-02-26T22:10:50.131Z"
   },
   {
    "duration": 270,
    "start_time": "2022-02-26T22:11:18.414Z"
   },
   {
    "duration": 7,
    "start_time": "2022-02-26T22:11:23.984Z"
   },
   {
    "duration": 274,
    "start_time": "2022-02-26T22:11:46.131Z"
   },
   {
    "duration": 3,
    "start_time": "2022-02-26T22:11:59.670Z"
   },
   {
    "duration": 355,
    "start_time": "2022-02-26T22:12:05.687Z"
   },
   {
    "duration": 10,
    "start_time": "2022-02-26T22:12:39.169Z"
   },
   {
    "duration": 5,
    "start_time": "2022-02-26T22:13:03.323Z"
   },
   {
    "duration": 5,
    "start_time": "2022-02-26T22:13:09.991Z"
   },
   {
    "duration": 10,
    "start_time": "2022-02-26T22:21:33.368Z"
   },
   {
    "duration": 11,
    "start_time": "2022-02-26T22:23:31.043Z"
   },
   {
    "duration": 6,
    "start_time": "2022-02-26T22:27:19.380Z"
   },
   {
    "duration": 8,
    "start_time": "2022-02-26T22:27:26.917Z"
   },
   {
    "duration": 6,
    "start_time": "2022-02-26T22:27:36.196Z"
   },
   {
    "duration": 6,
    "start_time": "2022-02-26T22:27:44.978Z"
   },
   {
    "duration": 3,
    "start_time": "2022-02-26T22:29:29.797Z"
   },
   {
    "duration": 64,
    "start_time": "2022-02-26T22:29:56.585Z"
   },
   {
    "duration": 7,
    "start_time": "2022-02-26T22:30:02.817Z"
   },
   {
    "duration": 5,
    "start_time": "2022-02-26T22:30:57.569Z"
   },
   {
    "duration": 5,
    "start_time": "2022-02-26T22:31:42.174Z"
   },
   {
    "duration": 4701,
    "start_time": "2022-02-26T22:38:19.466Z"
   },
   {
    "duration": 10,
    "start_time": "2022-02-26T22:39:21.900Z"
   },
   {
    "duration": 101,
    "start_time": "2022-02-26T22:41:43.940Z"
   },
   {
    "duration": 4921,
    "start_time": "2022-02-26T22:41:52.746Z"
   },
   {
    "duration": 9,
    "start_time": "2022-02-26T22:42:19.566Z"
   },
   {
    "duration": 197,
    "start_time": "2022-02-26T22:42:32.126Z"
   },
   {
    "duration": 8,
    "start_time": "2022-02-26T22:42:39.201Z"
   },
   {
    "duration": 204,
    "start_time": "2022-02-26T22:45:20.263Z"
   },
   {
    "duration": 4805,
    "start_time": "2022-02-26T22:45:25.543Z"
   },
   {
    "duration": 199,
    "start_time": "2022-02-26T22:46:51.058Z"
   },
   {
    "duration": 207,
    "start_time": "2022-02-26T22:47:01.912Z"
   },
   {
    "duration": 244,
    "start_time": "2022-02-26T22:47:24.342Z"
   },
   {
    "duration": 14,
    "start_time": "2022-02-26T22:47:32.502Z"
   },
   {
    "duration": 1252,
    "start_time": "2022-02-27T07:56:39.508Z"
   },
   {
    "duration": -1729,
    "start_time": "2022-02-27T07:56:42.492Z"
   },
   {
    "duration": -1731,
    "start_time": "2022-02-27T07:56:42.496Z"
   },
   {
    "duration": -1733,
    "start_time": "2022-02-27T07:56:42.499Z"
   },
   {
    "duration": -1734,
    "start_time": "2022-02-27T07:56:42.501Z"
   },
   {
    "duration": -1735,
    "start_time": "2022-02-27T07:56:42.503Z"
   },
   {
    "duration": -1737,
    "start_time": "2022-02-27T07:56:42.506Z"
   },
   {
    "duration": -1739,
    "start_time": "2022-02-27T07:56:42.509Z"
   },
   {
    "duration": -1741,
    "start_time": "2022-02-27T07:56:42.512Z"
   },
   {
    "duration": -1743,
    "start_time": "2022-02-27T07:56:42.514Z"
   },
   {
    "duration": -1744,
    "start_time": "2022-02-27T07:56:42.516Z"
   },
   {
    "duration": -1745,
    "start_time": "2022-02-27T07:56:42.518Z"
   },
   {
    "duration": -1747,
    "start_time": "2022-02-27T07:56:42.521Z"
   },
   {
    "duration": -1749,
    "start_time": "2022-02-27T07:56:42.524Z"
   },
   {
    "duration": -1751,
    "start_time": "2022-02-27T07:56:42.527Z"
   },
   {
    "duration": -1752,
    "start_time": "2022-02-27T07:56:42.529Z"
   },
   {
    "duration": -1754,
    "start_time": "2022-02-27T07:56:42.531Z"
   },
   {
    "duration": -1756,
    "start_time": "2022-02-27T07:56:42.534Z"
   },
   {
    "duration": -1757,
    "start_time": "2022-02-27T07:56:42.536Z"
   },
   {
    "duration": -1758,
    "start_time": "2022-02-27T07:56:42.538Z"
   },
   {
    "duration": -1759,
    "start_time": "2022-02-27T07:56:42.540Z"
   },
   {
    "duration": -1760,
    "start_time": "2022-02-27T07:56:42.542Z"
   },
   {
    "duration": -1761,
    "start_time": "2022-02-27T07:56:42.544Z"
   },
   {
    "duration": -1762,
    "start_time": "2022-02-27T07:56:42.546Z"
   },
   {
    "duration": -1764,
    "start_time": "2022-02-27T07:56:42.549Z"
   },
   {
    "duration": -1765,
    "start_time": "2022-02-27T07:56:42.551Z"
   },
   {
    "duration": -1768,
    "start_time": "2022-02-27T07:56:42.555Z"
   },
   {
    "duration": -1769,
    "start_time": "2022-02-27T07:56:42.557Z"
   },
   {
    "duration": -1771,
    "start_time": "2022-02-27T07:56:42.559Z"
   },
   {
    "duration": -1772,
    "start_time": "2022-02-27T07:56:42.561Z"
   },
   {
    "duration": -1774,
    "start_time": "2022-02-27T07:56:42.564Z"
   },
   {
    "duration": -1775,
    "start_time": "2022-02-27T07:56:42.566Z"
   },
   {
    "duration": -1776,
    "start_time": "2022-02-27T07:56:42.568Z"
   },
   {
    "duration": -1779,
    "start_time": "2022-02-27T07:56:42.572Z"
   },
   {
    "duration": -1780,
    "start_time": "2022-02-27T07:56:42.574Z"
   },
   {
    "duration": -1781,
    "start_time": "2022-02-27T07:56:42.576Z"
   },
   {
    "duration": 3,
    "start_time": "2022-02-27T07:57:32.862Z"
   },
   {
    "duration": 974,
    "start_time": "2022-02-27T07:57:39.041Z"
   },
   {
    "duration": 45,
    "start_time": "2022-02-27T07:57:40.017Z"
   },
   {
    "duration": 35,
    "start_time": "2022-02-27T07:57:40.064Z"
   },
   {
    "duration": 3,
    "start_time": "2022-02-27T07:57:40.100Z"
   },
   {
    "duration": 8,
    "start_time": "2022-02-27T07:57:40.105Z"
   },
   {
    "duration": 10,
    "start_time": "2022-02-27T07:57:40.114Z"
   },
   {
    "duration": 15,
    "start_time": "2022-02-27T07:57:40.125Z"
   },
   {
    "duration": 8,
    "start_time": "2022-02-27T07:57:40.143Z"
   },
   {
    "duration": 22,
    "start_time": "2022-02-27T07:57:40.153Z"
   },
   {
    "duration": 5,
    "start_time": "2022-02-27T07:57:40.176Z"
   },
   {
    "duration": 16,
    "start_time": "2022-02-27T07:57:40.182Z"
   },
   {
    "duration": 35,
    "start_time": "2022-02-27T07:57:40.200Z"
   },
   {
    "duration": 10,
    "start_time": "2022-02-27T07:57:40.237Z"
   },
   {
    "duration": 250,
    "start_time": "2022-02-27T07:57:40.248Z"
   },
   {
    "duration": 235,
    "start_time": "2022-02-27T07:57:40.500Z"
   },
   {
    "duration": 8,
    "start_time": "2022-02-27T07:57:40.736Z"
   },
   {
    "duration": 328,
    "start_time": "2022-02-27T07:57:40.745Z"
   },
   {
    "duration": 6,
    "start_time": "2022-02-27T07:57:41.075Z"
   },
   {
    "duration": 9,
    "start_time": "2022-02-27T07:57:41.083Z"
   },
   {
    "duration": 242,
    "start_time": "2022-02-27T07:57:41.093Z"
   },
   {
    "duration": 341,
    "start_time": "2022-02-27T07:57:41.336Z"
   },
   {
    "duration": 7,
    "start_time": "2022-02-27T07:57:41.678Z"
   },
   {
    "duration": 269,
    "start_time": "2022-02-27T07:57:41.689Z"
   },
   {
    "duration": 3,
    "start_time": "2022-02-27T07:57:41.960Z"
   },
   {
    "duration": 6,
    "start_time": "2022-02-27T07:57:41.965Z"
   },
   {
    "duration": 8,
    "start_time": "2022-02-27T07:57:41.972Z"
   },
   {
    "duration": 261,
    "start_time": "2022-02-27T07:57:41.981Z"
   },
   {
    "duration": 4,
    "start_time": "2022-02-27T07:57:42.244Z"
   },
   {
    "duration": 15,
    "start_time": "2022-02-27T07:57:42.249Z"
   },
   {
    "duration": 15,
    "start_time": "2022-02-27T07:57:42.266Z"
   },
   {
    "duration": 123,
    "start_time": "2022-02-27T07:57:42.283Z"
   },
   {
    "duration": 9,
    "start_time": "2022-02-27T07:57:42.408Z"
   },
   {
    "duration": 15,
    "start_time": "2022-02-27T07:57:42.419Z"
   },
   {
    "duration": 16,
    "start_time": "2022-02-27T07:57:42.435Z"
   },
   {
    "duration": 9,
    "start_time": "2022-02-27T07:57:42.452Z"
   },
   {
    "duration": 13,
    "start_time": "2022-02-27T07:57:42.463Z"
   },
   {
    "duration": 258,
    "start_time": "2022-02-27T07:59:02.723Z"
   },
   {
    "duration": 4,
    "start_time": "2022-02-27T08:00:27.673Z"
   },
   {
    "duration": 11,
    "start_time": "2022-02-27T10:01:15.328Z"
   },
   {
    "duration": 6,
    "start_time": "2022-02-27T10:02:04.031Z"
   },
   {
    "duration": 7,
    "start_time": "2022-02-27T10:02:17.460Z"
   },
   {
    "duration": 10,
    "start_time": "2022-02-27T10:02:48.292Z"
   },
   {
    "duration": 6,
    "start_time": "2022-02-27T10:03:49.856Z"
   },
   {
    "duration": 5,
    "start_time": "2022-02-27T10:04:37.752Z"
   },
   {
    "duration": 208,
    "start_time": "2022-02-27T10:04:54.955Z"
   },
   {
    "duration": 11,
    "start_time": "2022-02-27T10:05:02.354Z"
   },
   {
    "duration": 5,
    "start_time": "2022-02-27T10:05:28.516Z"
   },
   {
    "duration": 133,
    "start_time": "2022-02-27T10:05:47.906Z"
   },
   {
    "duration": 7,
    "start_time": "2022-02-27T10:05:52.930Z"
   },
   {
    "duration": 4,
    "start_time": "2022-02-27T10:06:43.458Z"
   },
   {
    "duration": 4876,
    "start_time": "2022-02-27T10:15:36.691Z"
   },
   {
    "duration": 29,
    "start_time": "2022-02-27T10:16:01.370Z"
   },
   {
    "duration": 21,
    "start_time": "2022-02-27T10:19:30.661Z"
   },
   {
    "duration": 21,
    "start_time": "2022-02-27T10:19:41.280Z"
   },
   {
    "duration": 27,
    "start_time": "2022-02-27T10:20:04.371Z"
   },
   {
    "duration": 36,
    "start_time": "2022-02-27T10:20:16.948Z"
   },
   {
    "duration": 41,
    "start_time": "2022-02-27T10:20:37.465Z"
   },
   {
    "duration": 222,
    "start_time": "2022-02-27T10:23:14.094Z"
   },
   {
    "duration": 19,
    "start_time": "2022-02-27T10:25:23.915Z"
   },
   {
    "duration": 20,
    "start_time": "2022-02-27T10:25:50.395Z"
   },
   {
    "duration": 19,
    "start_time": "2022-02-27T10:26:12.717Z"
   },
   {
    "duration": 441,
    "start_time": "2022-02-27T10:27:06.850Z"
   },
   {
    "duration": 179,
    "start_time": "2022-02-27T10:27:25.651Z"
   },
   {
    "duration": 174,
    "start_time": "2022-02-27T10:45:46.640Z"
   },
   {
    "duration": 18,
    "start_time": "2022-02-27T10:50:28.396Z"
   },
   {
    "duration": 18,
    "start_time": "2022-02-27T10:51:34.007Z"
   },
   {
    "duration": 17,
    "start_time": "2022-02-27T10:51:40.198Z"
   },
   {
    "duration": 231,
    "start_time": "2022-02-27T10:52:43.625Z"
   },
   {
    "duration": 115,
    "start_time": "2022-02-27T10:56:57.443Z"
   },
   {
    "duration": 15,
    "start_time": "2022-02-27T11:00:26.676Z"
   },
   {
    "duration": 15,
    "start_time": "2022-02-27T11:00:44.488Z"
   },
   {
    "duration": 15,
    "start_time": "2022-02-27T11:01:29.481Z"
   },
   {
    "duration": 10,
    "start_time": "2022-02-27T11:01:46.525Z"
   },
   {
    "duration": 971,
    "start_time": "2022-02-27T11:04:40.065Z"
   },
   {
    "duration": 50,
    "start_time": "2022-02-27T11:04:41.038Z"
   },
   {
    "duration": 43,
    "start_time": "2022-02-27T11:04:41.090Z"
   },
   {
    "duration": 4,
    "start_time": "2022-02-27T11:04:41.136Z"
   },
   {
    "duration": 9,
    "start_time": "2022-02-27T11:04:41.142Z"
   },
   {
    "duration": 12,
    "start_time": "2022-02-27T11:04:41.153Z"
   },
   {
    "duration": 10,
    "start_time": "2022-02-27T11:04:41.167Z"
   },
   {
    "duration": 55,
    "start_time": "2022-02-27T11:04:41.180Z"
   },
   {
    "duration": 5,
    "start_time": "2022-02-27T11:04:41.237Z"
   },
   {
    "duration": 15,
    "start_time": "2022-02-27T11:04:41.244Z"
   },
   {
    "duration": 259,
    "start_time": "2022-02-27T11:04:41.260Z"
   },
   {
    "duration": 275,
    "start_time": "2022-02-27T11:04:41.521Z"
   },
   {
    "duration": 8,
    "start_time": "2022-02-27T11:04:41.799Z"
   },
   {
    "duration": 383,
    "start_time": "2022-02-27T11:04:41.809Z"
   },
   {
    "duration": 8,
    "start_time": "2022-02-27T11:04:42.194Z"
   },
   {
    "duration": 6,
    "start_time": "2022-02-27T11:04:42.204Z"
   },
   {
    "duration": 257,
    "start_time": "2022-02-27T11:04:42.212Z"
   },
   {
    "duration": 335,
    "start_time": "2022-02-27T11:04:42.471Z"
   },
   {
    "duration": 8,
    "start_time": "2022-02-27T11:04:42.808Z"
   },
   {
    "duration": 329,
    "start_time": "2022-02-27T11:04:42.818Z"
   },
   {
    "duration": 4,
    "start_time": "2022-02-27T11:04:43.149Z"
   },
   {
    "duration": 7,
    "start_time": "2022-02-27T11:04:43.155Z"
   },
   {
    "duration": 7,
    "start_time": "2022-02-27T11:04:43.166Z"
   },
   {
    "duration": 283,
    "start_time": "2022-02-27T11:04:43.175Z"
   },
   {
    "duration": 4,
    "start_time": "2022-02-27T11:04:43.460Z"
   },
   {
    "duration": 21,
    "start_time": "2022-02-27T11:04:43.465Z"
   },
   {
    "duration": 13,
    "start_time": "2022-02-27T11:04:43.487Z"
   },
   {
    "duration": 32,
    "start_time": "2022-02-27T11:04:43.501Z"
   },
   {
    "duration": 133,
    "start_time": "2022-02-27T11:04:43.534Z"
   },
   {
    "duration": 8,
    "start_time": "2022-02-27T11:04:43.669Z"
   },
   {
    "duration": 365,
    "start_time": "2022-02-27T11:04:43.678Z"
   },
   {
    "duration": -1722,
    "start_time": "2022-02-27T11:04:45.766Z"
   },
   {
    "duration": -1729,
    "start_time": "2022-02-27T11:04:45.774Z"
   },
   {
    "duration": -1732,
    "start_time": "2022-02-27T11:04:45.778Z"
   },
   {
    "duration": 9,
    "start_time": "2022-02-27T11:05:29.023Z"
   },
   {
    "duration": 9,
    "start_time": "2022-02-27T11:06:22.596Z"
   },
   {
    "duration": 7,
    "start_time": "2022-02-27T11:06:28.783Z"
   },
   {
    "duration": 13,
    "start_time": "2022-02-27T11:06:30.405Z"
   },
   {
    "duration": 12,
    "start_time": "2022-02-27T11:07:23.083Z"
   },
   {
    "duration": 8,
    "start_time": "2022-02-27T11:09:03.277Z"
   },
   {
    "duration": 6,
    "start_time": "2022-02-27T11:09:17.031Z"
   },
   {
    "duration": 376,
    "start_time": "2022-02-27T11:11:37.502Z"
   },
   {
    "duration": 6,
    "start_time": "2022-02-27T11:11:43.284Z"
   },
   {
    "duration": 2460,
    "start_time": "2022-02-27T11:13:08.046Z"
   },
   {
    "duration": 7,
    "start_time": "2022-02-27T11:13:17.989Z"
   },
   {
    "duration": 7,
    "start_time": "2022-02-27T11:13:27.685Z"
   },
   {
    "duration": 4,
    "start_time": "2022-02-27T11:13:40.996Z"
   },
   {
    "duration": 9,
    "start_time": "2022-02-27T11:14:08.830Z"
   },
   {
    "duration": 2500,
    "start_time": "2022-02-27T11:14:45.613Z"
   },
   {
    "duration": 7,
    "start_time": "2022-02-27T11:15:00.072Z"
   },
   {
    "duration": 6,
    "start_time": "2022-02-27T11:19:18.279Z"
   },
   {
    "duration": 6,
    "start_time": "2022-02-27T11:23:24.319Z"
   },
   {
    "duration": 7,
    "start_time": "2022-02-27T11:23:32.486Z"
   },
   {
    "duration": 4,
    "start_time": "2022-02-27T11:23:57.339Z"
   },
   {
    "duration": 7,
    "start_time": "2022-02-27T11:24:03.812Z"
   },
   {
    "duration": 14,
    "start_time": "2022-02-27T11:24:17.751Z"
   },
   {
    "duration": 12,
    "start_time": "2022-02-27T11:24:33.050Z"
   },
   {
    "duration": 8,
    "start_time": "2022-02-27T11:24:42.168Z"
   },
   {
    "duration": 11,
    "start_time": "2022-02-27T11:24:50.928Z"
   },
   {
    "duration": 7,
    "start_time": "2022-02-27T11:25:09.014Z"
   },
   {
    "duration": 12,
    "start_time": "2022-02-27T11:25:15.494Z"
   },
   {
    "duration": 7,
    "start_time": "2022-02-27T11:25:34.351Z"
   },
   {
    "duration": 7,
    "start_time": "2022-02-27T11:26:08.562Z"
   },
   {
    "duration": 190,
    "start_time": "2022-02-27T11:27:06.475Z"
   },
   {
    "duration": 11,
    "start_time": "2022-02-27T11:27:50.243Z"
   },
   {
    "duration": 9,
    "start_time": "2022-02-27T11:28:10.589Z"
   },
   {
    "duration": 11,
    "start_time": "2022-02-27T11:28:25.975Z"
   },
   {
    "duration": 11,
    "start_time": "2022-02-27T11:29:21.158Z"
   },
   {
    "duration": 10,
    "start_time": "2022-02-27T11:29:37.276Z"
   },
   {
    "duration": 10,
    "start_time": "2022-02-27T11:29:54.951Z"
   },
   {
    "duration": 8,
    "start_time": "2022-02-27T11:30:13.824Z"
   },
   {
    "duration": 7,
    "start_time": "2022-02-27T11:30:16.936Z"
   },
   {
    "duration": 4,
    "start_time": "2022-02-27T11:31:35.468Z"
   },
   {
    "duration": 4,
    "start_time": "2022-02-27T11:31:44.244Z"
   },
   {
    "duration": 178,
    "start_time": "2022-02-27T11:32:23.617Z"
   },
   {
    "duration": 11,
    "start_time": "2022-02-27T11:32:28.041Z"
   },
   {
    "duration": 8,
    "start_time": "2022-02-27T11:32:42.238Z"
   },
   {
    "duration": 7,
    "start_time": "2022-02-27T11:32:44.281Z"
   },
   {
    "duration": 13,
    "start_time": "2022-02-27T11:33:31.786Z"
   },
   {
    "duration": 154,
    "start_time": "2022-02-27T11:35:47.711Z"
   },
   {
    "duration": 200,
    "start_time": "2022-02-27T11:36:31.664Z"
   },
   {
    "duration": 11,
    "start_time": "2022-02-27T11:37:36.204Z"
   },
   {
    "duration": 17,
    "start_time": "2022-02-27T11:39:10.051Z"
   },
   {
    "duration": 6,
    "start_time": "2022-02-27T11:52:00.499Z"
   },
   {
    "duration": 10,
    "start_time": "2022-02-27T11:53:35.481Z"
   },
   {
    "duration": 7,
    "start_time": "2022-02-27T11:54:04.785Z"
   },
   {
    "duration": 9,
    "start_time": "2022-02-27T11:54:45.895Z"
   },
   {
    "duration": 7,
    "start_time": "2022-02-27T11:54:46.876Z"
   },
   {
    "duration": 1073,
    "start_time": "2022-02-27T11:57:35.344Z"
   },
   {
    "duration": 36,
    "start_time": "2022-02-27T11:57:36.419Z"
   },
   {
    "duration": 35,
    "start_time": "2022-02-27T11:57:36.456Z"
   },
   {
    "duration": 2,
    "start_time": "2022-02-27T11:57:36.493Z"
   },
   {
    "duration": 8,
    "start_time": "2022-02-27T11:57:36.497Z"
   },
   {
    "duration": 28,
    "start_time": "2022-02-27T11:57:36.506Z"
   },
   {
    "duration": 10,
    "start_time": "2022-02-27T11:57:36.535Z"
   },
   {
    "duration": 36,
    "start_time": "2022-02-27T11:57:36.547Z"
   },
   {
    "duration": 5,
    "start_time": "2022-02-27T11:57:36.585Z"
   },
   {
    "duration": 13,
    "start_time": "2022-02-27T11:57:36.592Z"
   },
   {
    "duration": 254,
    "start_time": "2022-02-27T11:57:36.606Z"
   },
   {
    "duration": 243,
    "start_time": "2022-02-27T11:57:36.861Z"
   },
   {
    "duration": 8,
    "start_time": "2022-02-27T11:57:37.105Z"
   },
   {
    "duration": 378,
    "start_time": "2022-02-27T11:57:37.114Z"
   },
   {
    "duration": 7,
    "start_time": "2022-02-27T11:57:37.494Z"
   },
   {
    "duration": 7,
    "start_time": "2022-02-27T11:57:37.502Z"
   },
   {
    "duration": 242,
    "start_time": "2022-02-27T11:57:37.511Z"
   },
   {
    "duration": 347,
    "start_time": "2022-02-27T11:57:37.755Z"
   },
   {
    "duration": 7,
    "start_time": "2022-02-27T11:57:38.104Z"
   },
   {
    "duration": 334,
    "start_time": "2022-02-27T11:57:38.112Z"
   },
   {
    "duration": 4,
    "start_time": "2022-02-27T11:57:38.448Z"
   },
   {
    "duration": 5,
    "start_time": "2022-02-27T11:57:38.454Z"
   },
   {
    "duration": 8,
    "start_time": "2022-02-27T11:57:38.462Z"
   },
   {
    "duration": 262,
    "start_time": "2022-02-27T11:57:38.472Z"
   },
   {
    "duration": 4,
    "start_time": "2022-02-27T11:57:38.736Z"
   },
   {
    "duration": 16,
    "start_time": "2022-02-27T11:57:38.742Z"
   },
   {
    "duration": 12,
    "start_time": "2022-02-27T11:57:38.760Z"
   },
   {
    "duration": 13,
    "start_time": "2022-02-27T11:57:38.774Z"
   },
   {
    "duration": 149,
    "start_time": "2022-02-27T11:57:38.789Z"
   },
   {
    "duration": 10,
    "start_time": "2022-02-27T11:57:38.939Z"
   },
   {
    "duration": 12,
    "start_time": "2022-02-27T11:57:38.951Z"
   },
   {
    "duration": 10,
    "start_time": "2022-02-27T11:57:38.965Z"
   },
   {
    "duration": 8,
    "start_time": "2022-02-27T11:57:38.977Z"
   },
   {
    "duration": 54,
    "start_time": "2022-02-27T11:57:38.987Z"
   },
   {
    "duration": 5474,
    "start_time": "2022-02-27T12:11:00.832Z"
   },
   {
    "duration": 23,
    "start_time": "2022-02-27T12:11:31.247Z"
   },
   {
    "duration": 24,
    "start_time": "2022-02-27T12:12:18.577Z"
   },
   {
    "duration": 17,
    "start_time": "2022-02-27T12:13:17.304Z"
   },
   {
    "duration": 19,
    "start_time": "2022-02-27T12:13:40.175Z"
   },
   {
    "duration": 63,
    "start_time": "2022-02-27T12:15:53.317Z"
   },
   {
    "duration": 20,
    "start_time": "2022-02-27T12:15:56.916Z"
   },
   {
    "duration": 354,
    "start_time": "2022-02-27T12:16:28.509Z"
   },
   {
    "duration": 19,
    "start_time": "2022-02-27T12:17:42.689Z"
   },
   {
    "duration": 305,
    "start_time": "2022-02-27T12:17:43.472Z"
   },
   {
    "duration": 1045,
    "start_time": "2022-02-28T04:15:21.536Z"
   },
   {
    "duration": 140,
    "start_time": "2022-02-28T04:15:22.583Z"
   },
   {
    "duration": 39,
    "start_time": "2022-02-28T04:15:22.725Z"
   },
   {
    "duration": 4,
    "start_time": "2022-02-28T04:15:22.766Z"
   },
   {
    "duration": 8,
    "start_time": "2022-02-28T04:15:22.771Z"
   },
   {
    "duration": 11,
    "start_time": "2022-02-28T04:15:22.780Z"
   },
   {
    "duration": 9,
    "start_time": "2022-02-28T04:15:22.793Z"
   },
   {
    "duration": 23,
    "start_time": "2022-02-28T04:15:22.804Z"
   },
   {
    "duration": 5,
    "start_time": "2022-02-28T04:15:22.860Z"
   },
   {
    "duration": 17,
    "start_time": "2022-02-28T04:15:22.867Z"
   },
   {
    "duration": 275,
    "start_time": "2022-02-28T04:15:22.886Z"
   },
   {
    "duration": 263,
    "start_time": "2022-02-28T04:15:23.163Z"
   },
   {
    "duration": 8,
    "start_time": "2022-02-28T04:15:23.428Z"
   },
   {
    "duration": 375,
    "start_time": "2022-02-28T04:15:23.438Z"
   },
   {
    "duration": 6,
    "start_time": "2022-02-28T04:15:23.815Z"
   },
   {
    "duration": 9,
    "start_time": "2022-02-28T04:15:23.823Z"
   },
   {
    "duration": 263,
    "start_time": "2022-02-28T04:15:23.833Z"
   },
   {
    "duration": 337,
    "start_time": "2022-02-28T04:15:24.098Z"
   },
   {
    "duration": 7,
    "start_time": "2022-02-28T04:15:24.437Z"
   },
   {
    "duration": 320,
    "start_time": "2022-02-28T04:15:24.445Z"
   },
   {
    "duration": 4,
    "start_time": "2022-02-28T04:15:24.767Z"
   },
   {
    "duration": 5,
    "start_time": "2022-02-28T04:15:24.773Z"
   },
   {
    "duration": 7,
    "start_time": "2022-02-28T04:15:24.780Z"
   },
   {
    "duration": 289,
    "start_time": "2022-02-28T04:15:24.789Z"
   },
   {
    "duration": 4,
    "start_time": "2022-02-28T04:15:25.080Z"
   },
   {
    "duration": 20,
    "start_time": "2022-02-28T04:15:25.085Z"
   },
   {
    "duration": 14,
    "start_time": "2022-02-28T04:15:25.108Z"
   },
   {
    "duration": 41,
    "start_time": "2022-02-28T04:15:25.124Z"
   },
   {
    "duration": 142,
    "start_time": "2022-02-28T04:15:25.167Z"
   },
   {
    "duration": 9,
    "start_time": "2022-02-28T04:15:25.310Z"
   },
   {
    "duration": 11,
    "start_time": "2022-02-28T04:15:25.321Z"
   },
   {
    "duration": 32,
    "start_time": "2022-02-28T04:15:25.333Z"
   },
   {
    "duration": 7,
    "start_time": "2022-02-28T04:15:25.367Z"
   },
   {
    "duration": 15,
    "start_time": "2022-02-28T04:15:25.376Z"
   },
   {
    "duration": 20,
    "start_time": "2022-02-28T04:15:25.393Z"
   },
   {
    "duration": 416,
    "start_time": "2022-02-28T04:15:25.414Z"
   },
   {
    "duration": 1342,
    "start_time": "2022-02-28T07:55:10.151Z"
   },
   {
    "duration": 48,
    "start_time": "2022-02-28T07:55:11.496Z"
   },
   {
    "duration": 72,
    "start_time": "2022-02-28T07:55:11.546Z"
   },
   {
    "duration": 33,
    "start_time": "2022-02-28T07:55:11.620Z"
   },
   {
    "duration": 12,
    "start_time": "2022-02-28T07:55:11.656Z"
   },
   {
    "duration": 18,
    "start_time": "2022-02-28T07:55:11.670Z"
   },
   {
    "duration": 17,
    "start_time": "2022-02-28T07:55:11.690Z"
   },
   {
    "duration": 71,
    "start_time": "2022-02-28T07:55:11.710Z"
   },
   {
    "duration": 7,
    "start_time": "2022-02-28T07:55:11.785Z"
   },
   {
    "duration": 22,
    "start_time": "2022-02-28T07:55:11.794Z"
   },
   {
    "duration": 446,
    "start_time": "2022-02-28T07:55:11.819Z"
   },
   {
    "duration": 390,
    "start_time": "2022-02-28T07:55:12.268Z"
   },
   {
    "duration": 12,
    "start_time": "2022-02-28T07:55:12.660Z"
   },
   {
    "duration": 477,
    "start_time": "2022-02-28T07:55:12.675Z"
   },
   {
    "duration": 11,
    "start_time": "2022-02-28T07:55:13.155Z"
   },
   {
    "duration": 25,
    "start_time": "2022-02-28T07:55:13.169Z"
   },
   {
    "duration": 500,
    "start_time": "2022-02-28T07:55:13.196Z"
   },
   {
    "duration": 511,
    "start_time": "2022-02-28T07:55:13.698Z"
   },
   {
    "duration": 9,
    "start_time": "2022-02-28T07:55:14.212Z"
   },
   {
    "duration": 422,
    "start_time": "2022-02-28T07:55:14.224Z"
   },
   {
    "duration": 5,
    "start_time": "2022-02-28T07:55:14.651Z"
   },
   {
    "duration": 21,
    "start_time": "2022-02-28T07:55:14.658Z"
   },
   {
    "duration": 13,
    "start_time": "2022-02-28T07:55:14.684Z"
   },
   {
    "duration": 387,
    "start_time": "2022-02-28T07:55:14.700Z"
   },
   {
    "duration": 7,
    "start_time": "2022-02-28T07:55:15.090Z"
   },
   {
    "duration": 52,
    "start_time": "2022-02-28T07:55:15.100Z"
   },
   {
    "duration": 30,
    "start_time": "2022-02-28T07:55:15.155Z"
   },
   {
    "duration": 28,
    "start_time": "2022-02-28T07:55:15.188Z"
   },
   {
    "duration": 344,
    "start_time": "2022-02-28T07:55:15.219Z"
   },
   {
    "duration": 9,
    "start_time": "2022-02-28T07:55:15.566Z"
   },
   {
    "duration": 13,
    "start_time": "2022-02-28T07:55:15.577Z"
   },
   {
    "duration": 18,
    "start_time": "2022-02-28T07:55:15.592Z"
   },
   {
    "duration": 47,
    "start_time": "2022-02-28T07:55:15.613Z"
   },
   {
    "duration": 22,
    "start_time": "2022-02-28T07:55:15.662Z"
   },
   {
    "duration": 14,
    "start_time": "2022-02-28T07:55:15.686Z"
   },
   {
    "duration": 27,
    "start_time": "2022-02-28T07:55:15.702Z"
   },
   {
    "duration": 47,
    "start_time": "2022-02-28T07:55:15.731Z"
   },
   {
    "duration": 536,
    "start_time": "2022-02-28T07:55:15.781Z"
   },
   {
    "duration": 10,
    "start_time": "2022-02-28T07:56:40.373Z"
   },
   {
    "duration": 9,
    "start_time": "2022-02-28T07:56:46.060Z"
   },
   {
    "duration": 1051,
    "start_time": "2022-02-28T15:22:37.975Z"
   },
   {
    "duration": 43,
    "start_time": "2022-02-28T15:22:39.029Z"
   },
   {
    "duration": 48,
    "start_time": "2022-02-28T15:22:39.074Z"
   },
   {
    "duration": 3,
    "start_time": "2022-02-28T15:22:39.125Z"
   },
   {
    "duration": 18,
    "start_time": "2022-02-28T15:22:39.130Z"
   },
   {
    "duration": 30,
    "start_time": "2022-02-28T15:22:39.150Z"
   },
   {
    "duration": 15,
    "start_time": "2022-02-28T15:22:39.183Z"
   },
   {
    "duration": 35,
    "start_time": "2022-02-28T15:22:39.201Z"
   },
   {
    "duration": 6,
    "start_time": "2022-02-28T15:22:39.238Z"
   },
   {
    "duration": 33,
    "start_time": "2022-02-28T15:22:39.246Z"
   },
   {
    "duration": 265,
    "start_time": "2022-02-28T15:22:39.281Z"
   },
   {
    "duration": 257,
    "start_time": "2022-02-28T15:22:39.547Z"
   },
   {
    "duration": 8,
    "start_time": "2022-02-28T15:22:39.805Z"
   },
   {
    "duration": 367,
    "start_time": "2022-02-28T15:22:39.814Z"
   },
   {
    "duration": 6,
    "start_time": "2022-02-28T15:22:40.183Z"
   },
   {
    "duration": 36,
    "start_time": "2022-02-28T15:22:40.191Z"
   },
   {
    "duration": 263,
    "start_time": "2022-02-28T15:22:40.229Z"
   },
   {
    "duration": 351,
    "start_time": "2022-02-28T15:22:40.494Z"
   },
   {
    "duration": 7,
    "start_time": "2022-02-28T15:22:40.846Z"
   },
   {
    "duration": 312,
    "start_time": "2022-02-28T15:22:40.854Z"
   },
   {
    "duration": 4,
    "start_time": "2022-02-28T15:22:41.168Z"
   },
   {
    "duration": 15,
    "start_time": "2022-02-28T15:22:41.173Z"
   },
   {
    "duration": 8,
    "start_time": "2022-02-28T15:22:41.191Z"
   },
   {
    "duration": 345,
    "start_time": "2022-02-28T15:22:41.201Z"
   },
   {
    "duration": 5,
    "start_time": "2022-02-28T15:22:41.547Z"
   },
   {
    "duration": 26,
    "start_time": "2022-02-28T15:22:41.553Z"
   },
   {
    "duration": 13,
    "start_time": "2022-02-28T15:22:41.581Z"
   },
   {
    "duration": 12,
    "start_time": "2022-02-28T15:22:41.595Z"
   },
   {
    "duration": 113,
    "start_time": "2022-02-28T15:22:41.608Z"
   },
   {
    "duration": 14,
    "start_time": "2022-02-28T15:22:41.723Z"
   },
   {
    "duration": 5,
    "start_time": "2022-02-28T15:22:41.739Z"
   },
   {
    "duration": 9,
    "start_time": "2022-02-28T15:22:41.745Z"
   },
   {
    "duration": 7,
    "start_time": "2022-02-28T15:22:41.756Z"
   },
   {
    "duration": 11,
    "start_time": "2022-02-28T15:22:41.765Z"
   },
   {
    "duration": 8,
    "start_time": "2022-02-28T15:22:41.777Z"
   },
   {
    "duration": 6,
    "start_time": "2022-02-28T15:22:41.786Z"
   },
   {
    "duration": 56,
    "start_time": "2022-02-28T15:22:41.794Z"
   },
   {
    "duration": 17,
    "start_time": "2022-02-28T15:22:41.852Z"
   },
   {
    "duration": 337,
    "start_time": "2022-02-28T15:22:41.871Z"
   },
   {
    "duration": 44,
    "start_time": "2023-06-14T21:28:30.340Z"
   },
   {
    "duration": 1389,
    "start_time": "2023-06-14T21:28:35.573Z"
   },
   {
    "duration": 369,
    "start_time": "2023-06-14T21:28:36.965Z"
   },
   {
    "duration": 11,
    "start_time": "2023-06-14T21:28:37.336Z"
   },
   {
    "duration": 20,
    "start_time": "2023-06-14T21:28:37.349Z"
   },
   {
    "duration": 4,
    "start_time": "2023-06-14T21:28:37.371Z"
   },
   {
    "duration": 11,
    "start_time": "2023-06-14T21:28:37.376Z"
   },
   {
    "duration": 9,
    "start_time": "2023-06-14T21:28:37.388Z"
   },
   {
    "duration": 5,
    "start_time": "2023-06-14T21:28:37.398Z"
   },
   {
    "duration": 5,
    "start_time": "2023-06-14T21:28:37.587Z"
   },
   {
    "duration": 6,
    "start_time": "2023-06-14T21:28:38.127Z"
   },
   {
    "duration": 8,
    "start_time": "2023-06-14T21:28:38.478Z"
   },
   {
    "duration": 7,
    "start_time": "2023-06-14T21:28:38.677Z"
   },
   {
    "duration": 6,
    "start_time": "2023-06-14T21:28:38.974Z"
   },
   {
    "duration": 5,
    "start_time": "2023-06-14T21:28:39.371Z"
   },
   {
    "duration": 7,
    "start_time": "2023-06-14T21:28:40.127Z"
   },
   {
    "duration": 8,
    "start_time": "2023-06-14T21:29:21.916Z"
   },
   {
    "duration": 10,
    "start_time": "2023-06-14T21:29:22.122Z"
   },
   {
    "duration": 3,
    "start_time": "2023-06-14T21:29:32.302Z"
   },
   {
    "duration": 13,
    "start_time": "2023-06-14T21:29:48.020Z"
   },
   {
    "duration": 13,
    "start_time": "2023-06-14T21:29:53.421Z"
   },
   {
    "duration": 9,
    "start_time": "2023-06-14T21:29:56.766Z"
   },
   {
    "duration": 14,
    "start_time": "2023-06-14T21:30:32.367Z"
   },
   {
    "duration": 77,
    "start_time": "2023-06-14T21:30:41.366Z"
   },
   {
    "duration": 4,
    "start_time": "2023-06-14T21:30:44.751Z"
   },
   {
    "duration": 13,
    "start_time": "2023-06-14T21:30:45.350Z"
   },
   {
    "duration": 9,
    "start_time": "2023-06-14T21:32:00.838Z"
   },
   {
    "duration": 5,
    "start_time": "2023-06-14T21:32:07.819Z"
   },
   {
    "duration": 12,
    "start_time": "2023-06-14T21:32:07.901Z"
   },
   {
    "duration": 16,
    "start_time": "2023-06-14T21:32:07.917Z"
   },
   {
    "duration": 11,
    "start_time": "2023-06-14T21:32:07.973Z"
   },
   {
    "duration": 7,
    "start_time": "2023-06-14T21:32:08.119Z"
   },
   {
    "duration": 195,
    "start_time": "2023-06-14T21:32:08.219Z"
   },
   {
    "duration": 95,
    "start_time": "2023-06-14T21:32:08.721Z"
   },
   {
    "duration": 180,
    "start_time": "2023-06-14T21:32:08.818Z"
   },
   {
    "duration": 268,
    "start_time": "2023-06-14T21:32:09.169Z"
   },
   {
    "duration": 190,
    "start_time": "2023-06-14T21:32:09.729Z"
   },
   {
    "duration": 257,
    "start_time": "2023-06-14T21:33:32.273Z"
   },
   {
    "duration": 175,
    "start_time": "2023-06-14T21:47:49.841Z"
   },
   {
    "duration": 318,
    "start_time": "2023-06-14T21:48:04.249Z"
   },
   {
    "duration": 205,
    "start_time": "2023-06-14T21:49:03.682Z"
   },
   {
    "duration": 354,
    "start_time": "2023-06-14T21:50:00.239Z"
   },
   {
    "duration": 196,
    "start_time": "2023-06-14T21:50:15.241Z"
   },
   {
    "duration": 339,
    "start_time": "2023-06-14T21:50:20.540Z"
   },
   {
    "duration": 15,
    "start_time": "2023-06-14T21:50:38.728Z"
   },
   {
    "duration": 118,
    "start_time": "2023-06-14T21:50:39.283Z"
   },
   {
    "duration": 113,
    "start_time": "2023-06-14T21:50:39.861Z"
   },
   {
    "duration": 146,
    "start_time": "2023-06-14T21:51:11.371Z"
   },
   {
    "duration": 120,
    "start_time": "2023-06-14T21:52:20.849Z"
   },
   {
    "duration": 120,
    "start_time": "2023-06-14T21:52:33.942Z"
   },
   {
    "duration": 149,
    "start_time": "2023-06-14T21:52:48.161Z"
   },
   {
    "duration": 181,
    "start_time": "2023-06-14T21:52:59.663Z"
   },
   {
    "duration": 1264,
    "start_time": "2023-06-15T05:39:01.550Z"
   },
   {
    "duration": 299,
    "start_time": "2023-06-15T05:39:02.816Z"
   },
   {
    "duration": 11,
    "start_time": "2023-06-15T05:39:03.116Z"
   },
   {
    "duration": 20,
    "start_time": "2023-06-15T05:39:03.128Z"
   },
   {
    "duration": 19,
    "start_time": "2023-06-15T05:39:03.149Z"
   },
   {
    "duration": 5,
    "start_time": "2023-06-15T05:39:03.438Z"
   },
   {
    "duration": 9,
    "start_time": "2023-06-15T05:39:04.637Z"
   },
   {
    "duration": 4,
    "start_time": "2023-06-15T05:39:05.228Z"
   },
   {
    "duration": 6,
    "start_time": "2023-06-15T05:39:05.773Z"
   },
   {
    "duration": 7,
    "start_time": "2023-06-15T05:39:06.070Z"
   },
   {
    "duration": 10,
    "start_time": "2023-06-15T05:39:06.845Z"
   },
   {
    "duration": 6,
    "start_time": "2023-06-15T05:39:07.060Z"
   },
   {
    "duration": 5,
    "start_time": "2023-06-15T05:39:07.307Z"
   },
   {
    "duration": 5,
    "start_time": "2023-06-15T05:39:07.828Z"
   },
   {
    "duration": 7,
    "start_time": "2023-06-15T05:39:08.687Z"
   },
   {
    "duration": 102,
    "start_time": "2023-06-15T05:39:24.949Z"
   },
   {
    "duration": 6,
    "start_time": "2023-06-15T05:39:26.945Z"
   },
   {
    "duration": 11,
    "start_time": "2023-06-15T05:39:27.521Z"
   },
   {
    "duration": 7,
    "start_time": "2023-06-15T05:39:31.100Z"
   },
   {
    "duration": 4,
    "start_time": "2023-06-15T05:39:31.700Z"
   },
   {
    "duration": 10,
    "start_time": "2023-06-15T05:39:32.189Z"
   },
   {
    "duration": 6,
    "start_time": "2023-06-15T05:39:33.248Z"
   },
   {
    "duration": 7,
    "start_time": "2023-06-15T05:39:34.611Z"
   },
   {
    "duration": 166,
    "start_time": "2023-06-15T05:39:35.165Z"
   },
   {
    "duration": 102,
    "start_time": "2023-06-15T05:39:35.410Z"
   },
   {
    "duration": 9,
    "start_time": "2023-06-15T05:39:36.215Z"
   },
   {
    "duration": 291,
    "start_time": "2023-06-15T05:39:36.388Z"
   },
   {
    "duration": 194,
    "start_time": "2023-06-15T05:39:47.329Z"
   },
   {
    "duration": 349,
    "start_time": "2023-06-15T05:39:49.308Z"
   },
   {
    "duration": 185,
    "start_time": "2023-06-15T05:39:57.208Z"
   },
   {
    "duration": 340,
    "start_time": "2023-06-15T05:40:04.105Z"
   },
   {
    "duration": 11,
    "start_time": "2023-06-15T05:40:37.509Z"
   },
   {
    "duration": 143,
    "start_time": "2023-06-15T05:40:37.878Z"
   },
   {
    "duration": 142,
    "start_time": "2023-06-15T05:40:38.374Z"
   },
   {
    "duration": 278,
    "start_time": "2023-06-15T05:40:52.465Z"
   },
   {
    "duration": 4,
    "start_time": "2023-06-15T05:40:54.185Z"
   },
   {
    "duration": 113,
    "start_time": "2023-06-15T05:40:54.379Z"
   },
   {
    "duration": 214,
    "start_time": "2023-06-15T05:40:54.626Z"
   },
   {
    "duration": 234,
    "start_time": "2023-06-15T05:41:17.919Z"
   },
   {
    "duration": 129,
    "start_time": "2023-06-15T05:42:57.978Z"
   },
   {
    "duration": 196,
    "start_time": "2023-06-15T05:43:18.638Z"
   },
   {
    "duration": 126,
    "start_time": "2023-06-15T05:45:06.877Z"
   },
   {
    "duration": 193,
    "start_time": "2023-06-15T05:45:12.048Z"
   },
   {
    "duration": 123,
    "start_time": "2023-06-15T05:45:45.360Z"
   },
   {
    "duration": 184,
    "start_time": "2023-06-15T05:45:51.166Z"
   },
   {
    "duration": 4,
    "start_time": "2023-06-15T05:51:31.726Z"
   },
   {
    "duration": 15,
    "start_time": "2023-06-15T05:51:32.248Z"
   }
  ],
  "kernelspec": {
   "display_name": "Python 3 (ipykernel)",
   "language": "python",
   "name": "python3"
  },
  "language_info": {
   "codemirror_mode": {
    "name": "ipython",
    "version": 3
   },
   "file_extension": ".py",
   "mimetype": "text/x-python",
   "name": "python",
   "nbconvert_exporter": "python",
   "pygments_lexer": "ipython3",
   "version": "3.9.13"
  },
  "toc": {
   "base_numbering": 1,
   "nav_menu": {},
   "number_sections": true,
   "sideBar": true,
   "skip_h1_title": true,
   "title_cell": "Table of Contents",
   "title_sidebar": "Contents",
   "toc_cell": false,
   "toc_position": {},
   "toc_section_display": true,
   "toc_window_display": false
  }
 },
 "nbformat": 4,
 "nbformat_minor": 2
}
